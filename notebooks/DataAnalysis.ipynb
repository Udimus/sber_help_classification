{
 "cells": [
  {
   "cell_type": "markdown",
   "metadata": {},
   "source": [
    "# Задача\n",
    "\n",
    "Изучить данные."
   ]
  },
  {
   "cell_type": "markdown",
   "metadata": {},
   "source": [
    "# Импорты"
   ]
  },
  {
   "cell_type": "code",
   "execution_count": 1,
   "metadata": {},
   "outputs": [],
   "source": [
    "from collections import Counter\n",
    "import re\n",
    "\n",
    "import pandas as pd"
   ]
  },
  {
   "cell_type": "markdown",
   "metadata": {},
   "source": [
    "# Загрузка данных"
   ]
  },
  {
   "cell_type": "code",
   "execution_count": 2,
   "metadata": {},
   "outputs": [],
   "source": [
    "data_path = '../data/train.csv'\n",
    "\n",
    "df = pd.read_csv(data_path)"
   ]
  },
  {
   "cell_type": "markdown",
   "metadata": {},
   "source": [
    "# Изучение"
   ]
  },
  {
   "cell_type": "code",
   "execution_count": 3,
   "metadata": {},
   "outputs": [
    {
     "data": {
      "text/html": [
       "<div>\n",
       "<style scoped>\n",
       "    .dataframe tbody tr th:only-of-type {\n",
       "        vertical-align: middle;\n",
       "    }\n",
       "\n",
       "    .dataframe tbody tr th {\n",
       "        vertical-align: top;\n",
       "    }\n",
       "\n",
       "    .dataframe thead th {\n",
       "        text-align: right;\n",
       "    }\n",
       "</style>\n",
       "<table border=\"1\" class=\"dataframe\">\n",
       "  <thead>\n",
       "    <tr style=\"text-align: right;\">\n",
       "      <th></th>\n",
       "      <th>text</th>\n",
       "      <th>label</th>\n",
       "    </tr>\n",
       "  </thead>\n",
       "  <tbody>\n",
       "    <tr>\n",
       "      <th>8373</th>\n",
       "      <td>если вот так коротко то что-то понятно, но вот читая доку я начинаю тупить</td>\n",
       "      <td>0</td>\n",
       "    </tr>\n",
       "    <tr>\n",
       "      <th>4973</th>\n",
       "      <td>можно побенчмаркать, но я не думаю что будет принципиальная разница</td>\n",
       "      <td>0</td>\n",
       "    </tr>\n",
       "    <tr>\n",
       "      <th>2609</th>\n",
       "      <td>»Возможность быть причастным к крупным интересным проектам, которые не стыдно показать в портфол...</td>\n",
       "      <td>0</td>\n",
       "    </tr>\n",
       "    <tr>\n",
       "      <th>3214</th>\n",
       "      <td>у нас три раза сажают только одного и того же человека на один и тот же пост</td>\n",
       "      <td>1</td>\n",
       "    </tr>\n",
       "    <tr>\n",
       "      <th>11237</th>\n",
       "      <td>я не с этой эпохи... что есть АКБ? аккумуляторная батарея</td>\n",
       "      <td>1</td>\n",
       "    </tr>\n",
       "    <tr>\n",
       "      <th>9443</th>\n",
       "      <td>в работе разнорабочим у белых красивых и добрых людей за океаном</td>\n",
       "      <td>1</td>\n",
       "    </tr>\n",
       "    <tr>\n",
       "      <th>6029</th>\n",
       "      <td>сейчас бы нарушить NDA и назвать з/п в чате на 684 человека</td>\n",
       "      <td>1</td>\n",
       "    </tr>\n",
       "    <tr>\n",
       "      <th>11639</th>\n",
       "      <td>Ок) просто недавно подобную вещь делал - остались наработки.</td>\n",
       "      <td>1</td>\n",
       "    </tr>\n",
       "    <tr>\n",
       "      <th>3190</th>\n",
       "      <td>чтобы деплоящие макакены не запутались в разнообразии, но ладно, объясню так</td>\n",
       "      <td>0</td>\n",
       "    </tr>\n",
       "    <tr>\n",
       "      <th>3562</th>\n",
       "      <td>понял, очень внятно объяснили, \"light-weight threading\" как раз из gevent в голове подтянулось, ...</td>\n",
       "      <td>0</td>\n",
       "    </tr>\n",
       "  </tbody>\n",
       "</table>\n",
       "</div>"
      ],
      "text/plain": [
       "                                                                                                      text  \\\n",
       "8373                            если вот так коротко то что-то понятно, но вот читая доку я начинаю тупить   \n",
       "4973                                   можно побенчмаркать, но я не думаю что будет принципиальная разница   \n",
       "2609   »Возможность быть причастным к крупным интересным проектам, которые не стыдно показать в портфол...   \n",
       "3214                          у нас три раза сажают только одного и того же человека на один и тот же пост   \n",
       "11237                                            я не с этой эпохи... что есть АКБ? аккумуляторная батарея   \n",
       "9443                                      в работе разнорабочим у белых красивых и добрых людей за океаном   \n",
       "6029                                           сейчас бы нарушить NDA и назвать з/п в чате на 684 человека   \n",
       "11639                                         Ок) просто недавно подобную вещь делал - остались наработки.   \n",
       "3190                          чтобы деплоящие макакены не запутались в разнообразии, но ладно, объясню так   \n",
       "3562   понял, очень внятно объяснили, \"light-weight threading\" как раз из gevent в голове подтянулось, ...   \n",
       "\n",
       "       label  \n",
       "8373       0  \n",
       "4973       0  \n",
       "2609       0  \n",
       "3214       1  \n",
       "11237      1  \n",
       "9443       1  \n",
       "6029       1  \n",
       "11639      1  \n",
       "3190       0  \n",
       "3562       0  "
      ]
     },
     "execution_count": 3,
     "metadata": {},
     "output_type": "execute_result"
    }
   ],
   "source": [
    "pd.set_option('display.max_colwidth', 100)\n",
    "\n",
    "df.sample(10)"
   ]
  },
  {
   "cell_type": "code",
   "execution_count": 4,
   "metadata": {},
   "outputs": [
    {
     "data": {
      "text/plain": [
       "12404"
      ]
     },
     "execution_count": 4,
     "metadata": {},
     "output_type": "execute_result"
    }
   ],
   "source": [
    "len(df)"
   ]
  },
  {
   "cell_type": "markdown",
   "metadata": {},
   "source": [
    "### Распределение классов"
   ]
  },
  {
   "cell_type": "code",
   "execution_count": 5,
   "metadata": {
    "scrolled": true
   },
   "outputs": [
    {
     "data": {
      "text/plain": [
       "1    0.555063\n",
       "0    0.444937\n",
       "Name: label, dtype: float64"
      ]
     },
     "execution_count": 5,
     "metadata": {},
     "output_type": "execute_result"
    }
   ],
   "source": [
    "df['label'].value_counts(normalize=True)"
   ]
  },
  {
   "cell_type": "markdown",
   "metadata": {},
   "source": [
    "Почти поровну."
   ]
  },
  {
   "cell_type": "markdown",
   "metadata": {},
   "source": [
    "## Тексты"
   ]
  },
  {
   "cell_type": "code",
   "execution_count": 6,
   "metadata": {},
   "outputs": [],
   "source": [
    "df['text_length'] = df['text'].apply(lambda x: len(x))"
   ]
  },
  {
   "cell_type": "code",
   "execution_count": 7,
   "metadata": {},
   "outputs": [
    {
     "data": {
      "text/plain": [
       "count    12404.000000\n",
       "mean       100.786359\n",
       "std         78.801220\n",
       "min         25.000000\n",
       "25%         61.000000\n",
       "50%         79.000000\n",
       "75%        114.000000\n",
       "max       2434.000000\n",
       "Name: text_length, dtype: float64"
      ]
     },
     "execution_count": 7,
     "metadata": {},
     "output_type": "execute_result"
    }
   ],
   "source": [
    "df['text_length'].describe()"
   ]
  },
  {
   "cell_type": "code",
   "execution_count": 8,
   "metadata": {},
   "outputs": [
    {
     "data": {
      "text/html": [
       "<div>\n",
       "<style scoped>\n",
       "    .dataframe tbody tr th:only-of-type {\n",
       "        vertical-align: middle;\n",
       "    }\n",
       "\n",
       "    .dataframe tbody tr th {\n",
       "        vertical-align: top;\n",
       "    }\n",
       "\n",
       "    .dataframe thead th {\n",
       "        text-align: right;\n",
       "    }\n",
       "</style>\n",
       "<table border=\"1\" class=\"dataframe\">\n",
       "  <thead>\n",
       "    <tr style=\"text-align: right;\">\n",
       "      <th></th>\n",
       "      <th>count</th>\n",
       "      <th>mean</th>\n",
       "      <th>std</th>\n",
       "      <th>min</th>\n",
       "      <th>25%</th>\n",
       "      <th>50%</th>\n",
       "      <th>75%</th>\n",
       "      <th>max</th>\n",
       "    </tr>\n",
       "    <tr>\n",
       "      <th>label</th>\n",
       "      <th></th>\n",
       "      <th></th>\n",
       "      <th></th>\n",
       "      <th></th>\n",
       "      <th></th>\n",
       "      <th></th>\n",
       "      <th></th>\n",
       "      <th></th>\n",
       "    </tr>\n",
       "  </thead>\n",
       "  <tbody>\n",
       "    <tr>\n",
       "      <th>0</th>\n",
       "      <td>5519.0</td>\n",
       "      <td>109.537779</td>\n",
       "      <td>92.054401</td>\n",
       "      <td>30.0</td>\n",
       "      <td>63.0</td>\n",
       "      <td>84.0</td>\n",
       "      <td>124.0</td>\n",
       "      <td>2434.0</td>\n",
       "    </tr>\n",
       "    <tr>\n",
       "      <th>1</th>\n",
       "      <td>6885.0</td>\n",
       "      <td>93.771242</td>\n",
       "      <td>65.458823</td>\n",
       "      <td>25.0</td>\n",
       "      <td>59.0</td>\n",
       "      <td>75.0</td>\n",
       "      <td>107.0</td>\n",
       "      <td>1184.0</td>\n",
       "    </tr>\n",
       "  </tbody>\n",
       "</table>\n",
       "</div>"
      ],
      "text/plain": [
       "        count        mean        std   min   25%   50%    75%     max\n",
       "label                                                                \n",
       "0      5519.0  109.537779  92.054401  30.0  63.0  84.0  124.0  2434.0\n",
       "1      6885.0   93.771242  65.458823  25.0  59.0  75.0  107.0  1184.0"
      ]
     },
     "execution_count": 8,
     "metadata": {},
     "output_type": "execute_result"
    }
   ],
   "source": [
    "df.groupby(by='label')['text_length'].describe()"
   ]
  },
  {
   "cell_type": "markdown",
   "metadata": {},
   "source": [
    "Тексты по первому классу чуть короче."
   ]
  },
  {
   "cell_type": "markdown",
   "metadata": {},
   "source": [
    "#### Посмотрим на уникальные символы"
   ]
  },
  {
   "cell_type": "code",
   "execution_count": 9,
   "metadata": {},
   "outputs": [],
   "source": [
    "zero_class_symb_counter = Counter()\n",
    "first_class_symb_counter = Counter()\n",
    "\n",
    "for row in df.iterrows():\n",
    "    if row[1]['label'] == 0:\n",
    "        for s in row[1]['text']:\n",
    "            zero_class_symb_counter[s] += 1\n",
    "    else:\n",
    "        for s in row[1]['text']:\n",
    "            first_class_symb_counter[s] += 1"
   ]
  },
  {
   "cell_type": "code",
   "execution_count": 10,
   "metadata": {},
   "outputs": [
    {
     "data": {
      "text/plain": [
       "225"
      ]
     },
     "execution_count": 10,
     "metadata": {},
     "output_type": "execute_result"
    }
   ],
   "source": [
    "len(zero_class_symb_counter)"
   ]
  },
  {
   "cell_type": "code",
   "execution_count": 11,
   "metadata": {
    "collapsed": true
   },
   "outputs": [
    {
     "data": {
      "text/plain": [
       "[(' ', 94135),\n",
       " ('о', 46423),\n",
       " ('е', 35339),\n",
       " ('т', 33266),\n",
       " ('а', 33249),\n",
       " ('н', 26669),\n",
       " ('и', 26637),\n",
       " ('с', 19771),\n",
       " ('р', 18574),\n",
       " ('л', 15461),\n",
       " ('в', 15353),\n",
       " ('к', 14748),\n",
       " ('п', 13086),\n",
       " ('м', 12638),\n",
       " ('у', 12019),\n",
       " ('д', 11994),\n",
       " ('ь', 9093),\n",
       " ('б', 7591),\n",
       " ('я', 7579),\n",
       " ('ы', 7556),\n",
       " (',', 7376),\n",
       " ('ч', 7012),\n",
       " ('з', 6703),\n",
       " ('.', 6214),\n",
       " ('n', 6102),\n",
       " ('e', 5750),\n",
       " ('г', 5342),\n",
       " ('t', 4566),\n",
       " ('й', 4279),\n",
       " ('ж', 4234),\n",
       " ('i', 3632),\n",
       " ('s', 3551),\n",
       " ('r', 3452),\n",
       " ('a', 3441),\n",
       " ('o', 3366),\n",
       " ('\\\\', 3167),\n",
       " ('х', 2933),\n",
       " ('ш', 2914),\n",
       " ('ю', 2661),\n",
       " ('l', 2323),\n",
       " ('p', 2135),\n",
       " ('-', 2001),\n",
       " ('э', 1882),\n",
       " ('c', 1846),\n",
       " ('d', 1846),\n",
       " (')', 1832),\n",
       " ('m', 1551),\n",
       " ('u', 1464),\n",
       " ('ф', 1385),\n",
       " ('ц', 1384)]"
      ]
     },
     "execution_count": 11,
     "metadata": {},
     "output_type": "execute_result"
    }
   ],
   "source": [
    "zero_class_symb_counter.most_common(50)"
   ]
  },
  {
   "cell_type": "code",
   "execution_count": 12,
   "metadata": {},
   "outputs": [
    {
     "data": {
      "text/plain": [
       "225"
      ]
     },
     "execution_count": 12,
     "metadata": {},
     "output_type": "execute_result"
    }
   ],
   "source": [
    "len(first_class_symb_counter)"
   ]
  },
  {
   "cell_type": "code",
   "execution_count": 13,
   "metadata": {
    "collapsed": true
   },
   "outputs": [
    {
     "data": {
      "text/plain": [
       "[(' ', 101588),\n",
       " ('о', 53784),\n",
       " ('е', 42464),\n",
       " ('а', 40999),\n",
       " ('т', 38293),\n",
       " ('и', 31704),\n",
       " ('н', 31374),\n",
       " ('с', 23401),\n",
       " ('р', 21080),\n",
       " ('л', 19625),\n",
       " ('в', 17911),\n",
       " ('к', 17520),\n",
       " ('м', 15709),\n",
       " ('д', 14888),\n",
       " ('п', 14152),\n",
       " ('у', 14093),\n",
       " ('ь', 10101),\n",
       " (',', 9633),\n",
       " ('б', 9150),\n",
       " ('я', 9062),\n",
       " ('ч', 8884),\n",
       " ('ы', 8773),\n",
       " ('з', 7296),\n",
       " ('г', 7012),\n",
       " ('.', 5605),\n",
       " ('ж', 4873),\n",
       " ('й', 4851),\n",
       " ('х', 3945),\n",
       " ('ш', 3719),\n",
       " ('ю', 3058),\n",
       " ('-', 2537),\n",
       " ('э', 2234),\n",
       " (')', 1933),\n",
       " ('n', 1923),\n",
       " ('?', 1836),\n",
       " ('0', 1703),\n",
       " ('ф', 1585),\n",
       " ('ц', 1556),\n",
       " ('щ', 1472),\n",
       " ('e', 1375),\n",
       " ('t', 1182),\n",
       " ('a', 1171),\n",
       " ('o', 1111),\n",
       " ('1', 1093),\n",
       " ('Н', 1090),\n",
       " ('\\\\', 1075),\n",
       " ('i', 999),\n",
       " ('s', 981),\n",
       " ('r', 938),\n",
       " ('\"', 742)]"
      ]
     },
     "execution_count": 13,
     "metadata": {},
     "output_type": "execute_result"
    }
   ],
   "source": [
    "first_class_symb_counter.most_common(50)"
   ]
  },
  {
   "cell_type": "markdown",
   "metadata": {},
   "source": [
    "## Слова"
   ]
  },
  {
   "cell_type": "code",
   "execution_count": 14,
   "metadata": {},
   "outputs": [],
   "source": [
    "def split_words(text):\n",
    "    return re.split('[\\W\\d_]+', text)"
   ]
  },
  {
   "cell_type": "code",
   "execution_count": 15,
   "metadata": {},
   "outputs": [
    {
     "data": {
      "text/plain": [
       "['как',\n",
       " 'одно',\n",
       " 'ты',\n",
       " 'сказал',\n",
       " 'оно',\n",
       " 'перезапускается',\n",
       " 'А',\n",
       " 'если',\n",
       " 'оно',\n",
       " 'перезапускается',\n",
       " 'запуститься',\n",
       " 'может',\n",
       " 'новая',\n",
       " 'версия']"
      ]
     },
     "execution_count": 15,
     "metadata": {},
     "output_type": "execute_result"
    }
   ],
   "source": [
    "split_words(df.sample(1).iloc[0]['text'])"
   ]
  },
  {
   "cell_type": "code",
   "execution_count": 16,
   "metadata": {},
   "outputs": [],
   "source": [
    "df['words_count'] = df['text'].apply(lambda x: len(split_words(x)))"
   ]
  },
  {
   "cell_type": "code",
   "execution_count": 17,
   "metadata": {},
   "outputs": [
    {
     "data": {
      "text/html": [
       "<div>\n",
       "<style scoped>\n",
       "    .dataframe tbody tr th:only-of-type {\n",
       "        vertical-align: middle;\n",
       "    }\n",
       "\n",
       "    .dataframe tbody tr th {\n",
       "        vertical-align: top;\n",
       "    }\n",
       "\n",
       "    .dataframe thead th {\n",
       "        text-align: right;\n",
       "    }\n",
       "</style>\n",
       "<table border=\"1\" class=\"dataframe\">\n",
       "  <thead>\n",
       "    <tr style=\"text-align: right;\">\n",
       "      <th></th>\n",
       "      <th>count</th>\n",
       "      <th>mean</th>\n",
       "      <th>std</th>\n",
       "      <th>min</th>\n",
       "      <th>25%</th>\n",
       "      <th>50%</th>\n",
       "      <th>75%</th>\n",
       "      <th>max</th>\n",
       "    </tr>\n",
       "    <tr>\n",
       "      <th>label</th>\n",
       "      <th></th>\n",
       "      <th></th>\n",
       "      <th></th>\n",
       "      <th></th>\n",
       "      <th></th>\n",
       "      <th></th>\n",
       "      <th></th>\n",
       "      <th></th>\n",
       "    </tr>\n",
       "  </thead>\n",
       "  <tbody>\n",
       "    <tr>\n",
       "      <th>0</th>\n",
       "      <td>5519.0</td>\n",
       "      <td>18.340823</td>\n",
       "      <td>13.618048</td>\n",
       "      <td>6.0</td>\n",
       "      <td>11.0</td>\n",
       "      <td>14.0</td>\n",
       "      <td>21.0</td>\n",
       "      <td>365.0</td>\n",
       "    </tr>\n",
       "    <tr>\n",
       "      <th>1</th>\n",
       "      <td>6885.0</td>\n",
       "      <td>16.062600</td>\n",
       "      <td>10.048980</td>\n",
       "      <td>2.0</td>\n",
       "      <td>11.0</td>\n",
       "      <td>13.0</td>\n",
       "      <td>18.0</td>\n",
       "      <td>192.0</td>\n",
       "    </tr>\n",
       "  </tbody>\n",
       "</table>\n",
       "</div>"
      ],
      "text/plain": [
       "        count       mean        std  min   25%   50%   75%    max\n",
       "label                                                            \n",
       "0      5519.0  18.340823  13.618048  6.0  11.0  14.0  21.0  365.0\n",
       "1      6885.0  16.062600  10.048980  2.0  11.0  13.0  18.0  192.0"
      ]
     },
     "execution_count": 17,
     "metadata": {},
     "output_type": "execute_result"
    }
   ],
   "source": [
    "df.groupby(by='label')['words_count'].describe()"
   ]
  },
  {
   "cell_type": "markdown",
   "metadata": {},
   "source": [
    "И \"слов\" в первом классе в среднем чуть меньше."
   ]
  },
  {
   "cell_type": "markdown",
   "metadata": {},
   "source": [
    "#### Посмотрим на уникальные слова"
   ]
  },
  {
   "cell_type": "code",
   "execution_count": 18,
   "metadata": {},
   "outputs": [],
   "source": [
    "zero_class_word_counter = Counter()\n",
    "first_class_word_counter = Counter()\n",
    "\n",
    "for row in df.iterrows():\n",
    "    if row[1]['label'] == 0:\n",
    "        for w in split_words(row[1]['text']):\n",
    "            zero_class_word_counter[w] += 1\n",
    "    else:\n",
    "        for w in split_words(row[1]['text']):\n",
    "            first_class_word_counter[w] += 1"
   ]
  },
  {
   "cell_type": "code",
   "execution_count": 19,
   "metadata": {},
   "outputs": [
    {
     "data": {
      "text/plain": [
       "20159"
      ]
     },
     "execution_count": 19,
     "metadata": {},
     "output_type": "execute_result"
    }
   ],
   "source": [
    "len(zero_class_word_counter)"
   ]
  },
  {
   "cell_type": "code",
   "execution_count": 20,
   "metadata": {},
   "outputs": [
    {
     "data": {
      "text/plain": [
       "[('', 2694),\n",
       " ('не', 2481),\n",
       " ('в', 2408),\n",
       " ('и', 2213),\n",
       " ('что', 1482),\n",
       " ('n', 1402),\n",
       " ('на', 1340),\n",
       " ('то', 1047),\n",
       " ('это', 951),\n",
       " ('с', 931),\n",
       " ('я', 919),\n",
       " ('а', 796),\n",
       " ('как', 776),\n",
       " ('по', 597),\n",
       " ('ты', 594),\n",
       " ('у', 556),\n",
       " ('если', 544),\n",
       " ('но', 525),\n",
       " ('так', 523),\n",
       " ('для', 454)]"
      ]
     },
     "execution_count": 20,
     "metadata": {},
     "output_type": "execute_result"
    }
   ],
   "source": [
    "zero_class_word_counter.most_common(20)"
   ]
  },
  {
   "cell_type": "code",
   "execution_count": 21,
   "metadata": {},
   "outputs": [
    {
     "data": {
      "text/plain": [
       "[('вывод', 12),\n",
       " ('деньги', 12),\n",
       " ('готов', 12),\n",
       " ('системы', 12),\n",
       " ('имел', 12),\n",
       " ('пхп', 12),\n",
       " ('вызывать', 12),\n",
       " ('ними', 12),\n",
       " ('Без', 12),\n",
       " ('попробовать', 12),\n",
       " ('default', 12),\n",
       " ('that', 12),\n",
       " ('g', 12),\n",
       " ('опыт', 12),\n",
       " ('пофиг', 12),\n",
       " ('Нужно', 12),\n",
       " ('образом', 12),\n",
       " ('параметр', 12),\n",
       " ('запуска', 12),\n",
       " ('посмотри', 12)]"
      ]
     },
     "execution_count": 21,
     "metadata": {},
     "output_type": "execute_result"
    }
   ],
   "source": [
    "zero_class_word_counter.most_common()[1000:1020]"
   ]
  },
  {
   "cell_type": "code",
   "execution_count": 22,
   "metadata": {},
   "outputs": [
    {
     "data": {
      "text/plain": [
       "[('PWA', 1),\n",
       " ('наработках', 1),\n",
       " ('версткой', 1),\n",
       " ('подкупает', 1),\n",
       " ('спорят', 1),\n",
       " ('вкусах', 1),\n",
       " ('предпочтения', 1),\n",
       " ('вкусы', 1),\n",
       " ('зачётно', 1),\n",
       " ('фрагмент', 1),\n",
       " ('разделе', 1),\n",
       " ('маркете', 1),\n",
       " ('популярно', 1),\n",
       " ('школьником', 1),\n",
       " ('инвестиция', 1),\n",
       " ('маржи', 1),\n",
       " ('xmpp', 1),\n",
       " ('привата', 1),\n",
       " ('ифапдаун', 1),\n",
       " ('нетфорк', 1)]"
      ]
     },
     "execution_count": 22,
     "metadata": {},
     "output_type": "execute_result"
    }
   ],
   "source": [
    "zero_class_word_counter.most_common()[::-1][:20]"
   ]
  },
  {
   "cell_type": "code",
   "execution_count": null,
   "metadata": {},
   "outputs": [],
   "source": []
  },
  {
   "cell_type": "code",
   "execution_count": 23,
   "metadata": {},
   "outputs": [
    {
     "data": {
      "text/plain": [
       "23416"
      ]
     },
     "execution_count": 23,
     "metadata": {},
     "output_type": "execute_result"
    }
   ],
   "source": [
    "len(first_class_word_counter)"
   ]
  },
  {
   "cell_type": "code",
   "execution_count": 24,
   "metadata": {},
   "outputs": [
    {
     "data": {
      "text/plain": [
       "[('', 3374),\n",
       " ('не', 2927),\n",
       " ('и', 2783),\n",
       " ('в', 2721),\n",
       " ('что', 1927),\n",
       " ('на', 1859),\n",
       " ('то', 1318),\n",
       " ('я', 1274),\n",
       " ('это', 1171),\n",
       " ('а', 1170),\n",
       " ('с', 1032),\n",
       " ('как', 935),\n",
       " ('по', 799),\n",
       " ('у', 771),\n",
       " ('но', 705),\n",
       " ('так', 696),\n",
       " ('если', 630),\n",
       " ('же', 605),\n",
       " ('ты', 590),\n",
       " ('ну', 585)]"
      ]
     },
     "execution_count": 24,
     "metadata": {},
     "output_type": "execute_result"
    }
   ],
   "source": [
    "first_class_word_counter.most_common(20)"
   ]
  },
  {
   "cell_type": "code",
   "execution_count": 25,
   "metadata": {},
   "outputs": [
    {
     "data": {
      "text/plain": [
       "[('GPU', 11),\n",
       " ('машин', 11),\n",
       " ('настолько', 11),\n",
       " ('футболки', 11),\n",
       " ('деревьев', 11),\n",
       " ('карту', 11),\n",
       " ('ошибку', 11),\n",
       " ('прирост', 11),\n",
       " ('ноль', 11),\n",
       " ('мире', 11),\n",
       " ('mlbootcamp', 11),\n",
       " ('оценки', 11),\n",
       " ('Еще', 11),\n",
       " ('иметь', 10),\n",
       " ('попробовал', 10),\n",
       " ('оставить', 10),\n",
       " ('сообщение', 10),\n",
       " ('простой', 10),\n",
       " ('заниматься', 10),\n",
       " ('количества', 10)]"
      ]
     },
     "execution_count": 25,
     "metadata": {},
     "output_type": "execute_result"
    }
   ],
   "source": [
    "first_class_word_counter.most_common()[1000:1020]"
   ]
  },
  {
   "cell_type": "code",
   "execution_count": 26,
   "metadata": {},
   "outputs": [
    {
     "data": {
      "text/plain": [
       "[('квору', 1),\n",
       " ('Посмотри', 1),\n",
       " ('НЛП', 1),\n",
       " ('сигмоидой', 1),\n",
       " ('Архитектура', 1),\n",
       " ('неправыми', 1),\n",
       " ('докормить', 1),\n",
       " ('далёкую', 1),\n",
       " ('кормить', 1),\n",
       " ('вычислят', 1),\n",
       " ('колода', 1),\n",
       " ('чья', 1),\n",
       " ('Манчкине', 1),\n",
       " ('жизнеспособен', 1),\n",
       " ('leave', 1),\n",
       " ('тормозах', 1),\n",
       " ('поглотила', 1),\n",
       " ('свистом', 1),\n",
       " ('улетит', 1),\n",
       " ('передастся', 1)]"
      ]
     },
     "execution_count": 26,
     "metadata": {},
     "output_type": "execute_result"
    }
   ],
   "source": [
    "first_class_word_counter.most_common()[::-1][:20]"
   ]
  },
  {
   "cell_type": "code",
   "execution_count": null,
   "metadata": {},
   "outputs": [],
   "source": []
  },
  {
   "cell_type": "markdown",
   "metadata": {},
   "source": [
    "## Выводы\n",
    "\n",
    "Язык жаргонный, слова часто коверкаются. Можно предложить либо всякое приведение, лемминг-стемминг. Либо энграмы. либо и то и другое.\n",
    "\n",
    "Можно попробовать обучить фасттекст, а затем бустинг или RNN. Вряд ли предобученные эмбединги тут будут хороши. Но На это всё вряд ли хватит времени, поэтому наш ответ -- катбуст. Только нужно будет перед ним пройтись приведением слов к базовой форме."
   ]
  },
  {
   "cell_type": "code",
   "execution_count": null,
   "metadata": {},
   "outputs": [],
   "source": []
  }
 ],
 "metadata": {
  "kernelspec": {
   "display_name": "sber_help_task",
   "language": "python",
   "name": "sber_help_task"
  },
  "language_info": {
   "codemirror_mode": {
    "name": "ipython",
    "version": 3
   },
   "file_extension": ".py",
   "mimetype": "text/x-python",
   "name": "python",
   "nbconvert_exporter": "python",
   "pygments_lexer": "ipython3",
   "version": "3.6.9"
  }
 },
 "nbformat": 4,
 "nbformat_minor": 2
}
