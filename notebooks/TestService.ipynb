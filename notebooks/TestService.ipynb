{
 "cells": [
  {
   "cell_type": "markdown",
   "metadata": {},
   "source": [
    "# Задача\n",
    "\n",
    "Проверить поднятый сервис, привести примеры использования API."
   ]
  },
  {
   "cell_type": "markdown",
   "metadata": {},
   "source": [
    "# Импорты"
   ]
  },
  {
   "cell_type": "code",
   "execution_count": 1,
   "metadata": {},
   "outputs": [],
   "source": [
    "import os\n",
    "import urllib.parse\n",
    "from pprint import pprint\n",
    "\n",
    "import requests\n",
    "import pandas as pd\n",
    "from sklearn.metrics import roc_auc_score, plot_roc_curve\n",
    "\n",
    "from module.prepare_data import load_dataset"
   ]
  },
  {
   "cell_type": "markdown",
   "metadata": {},
   "source": [
    "# Данные"
   ]
  },
  {
   "cell_type": "code",
   "execution_count": 2,
   "metadata": {},
   "outputs": [],
   "source": [
    "test_data_path = '../data/test.csv'\n",
    "\n",
    "test_data = load_dataset(test_data_path)"
   ]
  },
  {
   "cell_type": "code",
   "execution_count": 3,
   "metadata": {},
   "outputs": [
    {
     "data": {
      "text/html": [
       "<div>\n",
       "<style scoped>\n",
       "    .dataframe tbody tr th:only-of-type {\n",
       "        vertical-align: middle;\n",
       "    }\n",
       "\n",
       "    .dataframe tbody tr th {\n",
       "        vertical-align: top;\n",
       "    }\n",
       "\n",
       "    .dataframe thead th {\n",
       "        text-align: right;\n",
       "    }\n",
       "</style>\n",
       "<table border=\"1\" class=\"dataframe\">\n",
       "  <thead>\n",
       "    <tr style=\"text-align: right;\">\n",
       "      <th></th>\n",
       "      <th>text</th>\n",
       "      <th>label</th>\n",
       "    </tr>\n",
       "  </thead>\n",
       "  <tbody>\n",
       "    <tr>\n",
       "      <th>0</th>\n",
       "      <td>ток чет не совпадает то, что они пишут, с тем,...</td>\n",
       "      <td>0</td>\n",
       "    </tr>\n",
       "    <tr>\n",
       "      <th>1</th>\n",
       "      <td>как я твою аву-то уберу?\\nа без авы Дени теряе...</td>\n",
       "      <td>1</td>\n",
       "    </tr>\n",
       "    <tr>\n",
       "      <th>2</th>\n",
       "      <td>Короче, Гил не даёт параллельно выполняться чи...</td>\n",
       "      <td>0</td>\n",
       "    </tr>\n",
       "    <tr>\n",
       "      <th>3</th>\n",
       "      <td>Зачем делать remove, просто перезаписывать кон...</td>\n",
       "      <td>0</td>\n",
       "    </tr>\n",
       "    <tr>\n",
       "      <th>4</th>\n",
       "      <td>в линуксах, говорят, всё экспортится само, что...</td>\n",
       "      <td>1</td>\n",
       "    </tr>\n",
       "    <tr>\n",
       "      <th>...</th>\n",
       "      <td>...</td>\n",
       "      <td>...</td>\n",
       "    </tr>\n",
       "    <tr>\n",
       "      <th>1236</th>\n",
       "      <td>Хорош интерпретацией.  Плох при сильно несбала...</td>\n",
       "      <td>1</td>\n",
       "    </tr>\n",
       "    <tr>\n",
       "      <th>1237</th>\n",
       "      <td>придумул кое что другое :)\\nПри добавлении\\nda...</td>\n",
       "      <td>0</td>\n",
       "    </tr>\n",
       "    <tr>\n",
       "      <th>1238</th>\n",
       "      <td>Нет, спасибо, я лучше на своем дистре посижу, ...</td>\n",
       "      <td>0</td>\n",
       "    </tr>\n",
       "    <tr>\n",
       "      <th>1239</th>\n",
       "      <td>Да там и нет ничего умнее, там просто туча опт...</td>\n",
       "      <td>1</td>\n",
       "    </tr>\n",
       "    <tr>\n",
       "      <th>1240</th>\n",
       "      <td>в 60-х подобные таблички были везде, for human...</td>\n",
       "      <td>1</td>\n",
       "    </tr>\n",
       "  </tbody>\n",
       "</table>\n",
       "<p>1241 rows × 2 columns</p>\n",
       "</div>"
      ],
      "text/plain": [
       "                                                   text  label\n",
       "0     ток чет не совпадает то, что они пишут, с тем,...      0\n",
       "1     как я твою аву-то уберу?\\nа без авы Дени теряе...      1\n",
       "2     Короче, Гил не даёт параллельно выполняться чи...      0\n",
       "3     Зачем делать remove, просто перезаписывать кон...      0\n",
       "4     в линуксах, говорят, всё экспортится само, что...      1\n",
       "...                                                 ...    ...\n",
       "1236  Хорош интерпретацией.  Плох при сильно несбала...      1\n",
       "1237  придумул кое что другое :)\\nПри добавлении\\nda...      0\n",
       "1238  Нет, спасибо, я лучше на своем дистре посижу, ...      0\n",
       "1239  Да там и нет ничего умнее, там просто туча опт...      1\n",
       "1240  в 60-х подобные таблички были везде, for human...      1\n",
       "\n",
       "[1241 rows x 2 columns]"
      ]
     },
     "execution_count": 3,
     "metadata": {},
     "output_type": "execute_result"
    }
   ],
   "source": [
    "test_data"
   ]
  },
  {
   "cell_type": "code",
   "execution_count": 4,
   "metadata": {},
   "outputs": [],
   "source": [
    "list_of_data = [{'text': text} for text in test_data['text'].values]"
   ]
  },
  {
   "cell_type": "code",
   "execution_count": 5,
   "metadata": {},
   "outputs": [
    {
     "data": {
      "text/plain": [
       "[{'text': 'ток чет не совпадает то, что они пишут, с тем, что я получаю  :D'},\n",
       " {'text': 'как я твою аву-то уберу?\\\\nа без авы Дени теряется смысл'},\n",
       " {'text': 'Короче, Гил не даёт параллельно выполняться чисто питоновскому коду, но многое нативное же'},\n",
       " {'text': 'Зачем делать remove, просто перезаписывать контент под этим же именем'},\n",
       " {'text': 'в линуксах, говорят, всё экспортится само, что нужно (не проверял)'}]"
      ]
     },
     "execution_count": 5,
     "metadata": {},
     "output_type": "execute_result"
    }
   ],
   "source": [
    "list_of_data[:5]"
   ]
  },
  {
   "cell_type": "markdown",
   "metadata": {},
   "source": [
    "# Сервис"
   ]
  },
  {
   "cell_type": "code",
   "execution_count": 6,
   "metadata": {},
   "outputs": [],
   "source": [
    "url = 'http://0.0.0.0:5000/'"
   ]
  },
  {
   "cell_type": "markdown",
   "metadata": {},
   "source": [
    "### Проверка связи"
   ]
  },
  {
   "cell_type": "code",
   "execution_count": 7,
   "metadata": {},
   "outputs": [
    {
     "name": "stdout",
     "output_type": "stream",
     "text": [
      "pong\n"
     ]
    }
   ],
   "source": [
    "ping_url = urllib.parse.urljoin(url, '/ping')\n",
    "response = requests.get(ping_url)\n",
    "response.raise_for_status()\n",
    "\n",
    "print(response.text)"
   ]
  },
  {
   "cell_type": "markdown",
   "metadata": {},
   "source": [
    "### Проверка работы"
   ]
  },
  {
   "cell_type": "code",
   "execution_count": 8,
   "metadata": {},
   "outputs": [],
   "source": [
    "model_url = urllib.parse.urljoin(url, '/predict')"
   ]
  },
  {
   "cell_type": "markdown",
   "metadata": {},
   "source": [
    "#### Одиночный пример"
   ]
  },
  {
   "cell_type": "code",
   "execution_count": 9,
   "metadata": {},
   "outputs": [
    {
     "name": "stdout",
     "output_type": "stream",
     "text": [
      "{'text': 'ток чет не совпадает то, что они пишут, с тем, что я получаю  :D'}\n",
      "0.6859662565040332\n",
      "CPU times: user 2.73 ms, sys: 0 ns, total: 2.73 ms\n",
      "Wall time: 5.67 ms\n"
     ]
    }
   ],
   "source": [
    "%%time\n",
    "api_json = list_of_data[0]\n",
    "pprint(api_json)\n",
    "response = requests.post(model_url, json=api_json)\n",
    "response.raise_for_status()\n",
    "\n",
    "pprint(response.json())"
   ]
  },
  {
   "cell_type": "markdown",
   "metadata": {},
   "source": [
    "#### Одиночный пример как список"
   ]
  },
  {
   "cell_type": "code",
   "execution_count": 10,
   "metadata": {},
   "outputs": [
    {
     "name": "stdout",
     "output_type": "stream",
     "text": [
      "[{'text': 'ток чет не совпадает то, что они пишут, с тем, что я получаю  :D'}]\n",
      "[0.6859662565040332]\n",
      "CPU times: user 2.91 ms, sys: 0 ns, total: 2.91 ms\n",
      "Wall time: 5.74 ms\n"
     ]
    }
   ],
   "source": [
    "%%time\n",
    "api_json = list_of_data[:1]\n",
    "pprint(api_json)\n",
    "response = requests.post(model_url, json=api_json)\n",
    "response.raise_for_status()\n",
    "\n",
    "pprint(response.json())"
   ]
  },
  {
   "cell_type": "markdown",
   "metadata": {},
   "source": [
    "#### Список"
   ]
  },
  {
   "cell_type": "code",
   "execution_count": 11,
   "metadata": {},
   "outputs": [
    {
     "name": "stdout",
     "output_type": "stream",
     "text": [
      "[{'text': 'ток чет не совпадает то, что они пишут, с тем, что я получаю  :D'},\n",
      " {'text': 'как я твою аву-то уберу?\\\\nа без авы Дени теряется смысл'},\n",
      " {'text': 'Короче, Гил не даёт параллельно выполняться чисто питоновскому '\n",
      "          'коду, но многое нативное же'},\n",
      " {'text': 'Зачем делать remove, просто перезаписывать контент под этим же '\n",
      "          'именем'},\n",
      " {'text': 'в линуксах, говорят, всё экспортится само, что нужно (не проверял)'},\n",
      " {'text': '\"содержит таблицу с идентификатором и значением таргета\" см. скрин'},\n",
      " {'text': 'я ни разу не писатель, на работе то отчеты за меня пишут другие'},\n",
      " {'text': 'Очевидно что биннинг нужен длялогита чтобы нелинейную зависимость '\n",
      "          'преобразраать в линейную от логорифма....'},\n",
      " {'text': 'Попытка подогнать реальность под идеал, и тем самым форсировать '\n",
      "          'наступление идеала'},\n",
      " {'text': 'Не, там становится видно одного и того же пациента'}]\n",
      "[0.6859662565040332,\n",
      " 0.5562194849154555,\n",
      " 0.027762636803320796,\n",
      " 0.07279617991625546,\n",
      " 0.09689669766137908,\n",
      " 0.606525775603242,\n",
      " 0.527522088164426,\n",
      " 0.9650962768804561,\n",
      " 0.7620728660405861,\n",
      " 0.8147087249841053]\n",
      "CPU times: user 4.74 ms, sys: 0 ns, total: 4.74 ms\n",
      "Wall time: 14.5 ms\n"
     ]
    }
   ],
   "source": [
    "%%time\n",
    "api_json = list_of_data[:10]\n",
    "pprint(api_json)\n",
    "response = requests.post(model_url, json=api_json)\n",
    "response.raise_for_status()\n",
    "\n",
    "pprint(response.json())"
   ]
  },
  {
   "cell_type": "markdown",
   "metadata": {},
   "source": [
    "#### Неправильное поле"
   ]
  },
  {
   "cell_type": "code",
   "execution_count": 12,
   "metadata": {},
   "outputs": [
    {
     "name": "stdout",
     "output_type": "stream",
     "text": [
      "{'comment': 'test'}\n",
      "{\n",
      "  \"code\": 400, \n",
      "  \"message\": \"Data should have field 'text'.\"\n",
      "}\n",
      "\n",
      "CPU times: user 3.4 ms, sys: 0 ns, total: 3.4 ms\n",
      "Wall time: 4.01 ms\n"
     ]
    }
   ],
   "source": [
    "%%time\n",
    "api_json = {'comment': 'test'}\n",
    "pprint(api_json)\n",
    "\n",
    "response = requests.post(model_url, json=api_json)\n",
    "\n",
    "print(response.text)"
   ]
  },
  {
   "cell_type": "markdown",
   "metadata": {},
   "source": [
    "#### Неправильный тип данных"
   ]
  },
  {
   "cell_type": "code",
   "execution_count": 13,
   "metadata": {},
   "outputs": [
    {
     "name": "stdout",
     "output_type": "stream",
     "text": [
      "'test'\n",
      "{\n",
      "  \"code\": 400, \n",
      "  \"message\": \"Data should be dict or list of dicts.\"\n",
      "}\n",
      "\n",
      "CPU times: user 0 ns, sys: 2.45 ms, total: 2.45 ms\n",
      "Wall time: 3.15 ms\n"
     ]
    }
   ],
   "source": [
    "%%time\n",
    "api_json = 'test'\n",
    "pprint(api_json)\n",
    "\n",
    "response = requests.post(model_url, json=api_json)\n",
    "\n",
    "print(response.text)"
   ]
  },
  {
   "cell_type": "code",
   "execution_count": 14,
   "metadata": {},
   "outputs": [
    {
     "name": "stdout",
     "output_type": "stream",
     "text": [
      "[[{'text': 'test'}]]\n",
      "{\n",
      "  \"code\": 400, \n",
      "  \"message\": \"Data should be dict or list of dicts.\"\n",
      "}\n",
      "\n",
      "CPU times: user 0 ns, sys: 2.64 ms, total: 2.64 ms\n",
      "Wall time: 2.98 ms\n"
     ]
    }
   ],
   "source": [
    "%%time\n",
    "api_json = [[{'text': 'test'}]]\n",
    "pprint(api_json)\n",
    "\n",
    "response = requests.post(model_url, json=api_json)\n",
    "\n",
    "print(response.text)"
   ]
  },
  {
   "cell_type": "markdown",
   "metadata": {},
   "source": [
    "## Проверка сервиса на всём тесте"
   ]
  },
  {
   "cell_type": "code",
   "execution_count": 15,
   "metadata": {},
   "outputs": [
    {
     "name": "stdout",
     "output_type": "stream",
     "text": [
      "CPU times: user 3.66 ms, sys: 2.02 ms, total: 5.68 ms\n",
      "Wall time: 1.25 s\n"
     ]
    }
   ],
   "source": [
    "%%time\n",
    "response = requests.post(model_url, json=list_of_data)\n",
    "response.raise_for_status()\n",
    "\n",
    "prediction = response.json()"
   ]
  },
  {
   "cell_type": "code",
   "execution_count": 16,
   "metadata": {},
   "outputs": [],
   "source": [
    "test_label = test_data['label']"
   ]
  },
  {
   "cell_type": "code",
   "execution_count": 17,
   "metadata": {},
   "outputs": [
    {
     "data": {
      "text/plain": [
       "0.8855504018321223"
      ]
     },
     "execution_count": 17,
     "metadata": {},
     "output_type": "execute_result"
    }
   ],
   "source": [
    "roc_auc_score(test_label, prediction)"
   ]
  },
  {
   "cell_type": "code",
   "execution_count": null,
   "metadata": {},
   "outputs": [],
   "source": []
  },
  {
   "cell_type": "code",
   "execution_count": null,
   "metadata": {},
   "outputs": [],
   "source": []
  }
 ],
 "metadata": {
  "kernelspec": {
   "display_name": "sber_help_task",
   "language": "python",
   "name": "sber_help_task"
  },
  "language_info": {
   "codemirror_mode": {
    "name": "ipython",
    "version": 3
   },
   "file_extension": ".py",
   "mimetype": "text/x-python",
   "name": "python",
   "nbconvert_exporter": "python",
   "pygments_lexer": "ipython3",
   "version": "3.6.9"
  }
 },
 "nbformat": 4,
 "nbformat_minor": 2
}
