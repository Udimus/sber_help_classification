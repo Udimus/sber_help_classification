{
 "cells": [
  {
   "cell_type": "markdown",
   "metadata": {},
   "source": [
    "# Задача\n",
    "\n",
    "Реализуем pipeline с использование текстовых признаков catboost."
   ]
  },
  {
   "cell_type": "markdown",
   "metadata": {},
   "source": [
    "# Импорты\n"
   ]
  },
  {
   "cell_type": "code",
   "execution_count": 1,
   "metadata": {},
   "outputs": [],
   "source": [
    "from copy import deepcopy\n",
    "\n",
    "import pandas as pd\n",
    "import numpy as np\n",
    "import matplotlib.pyplot as plt\n",
    "from sklearn.metrics import roc_auc_score, plot_roc_curve\n",
    "from sklearn.model_selection import cross_val_score, StratifiedKFold\n",
    "from catboost import CatBoostClassifier\n",
    "%matplotlib inline\n",
    "\n",
    "from module.prepare_data import load_dataset, Preprocessor\n",
    "from module.model import (\n",
    "    get_cb_pipeline,\n",
    "    TEXT_PROCESSING,\n",
    "    save_pipeline,\n",
    "    load_pipeline,\n",
    ")"
   ]
  },
  {
   "cell_type": "code",
   "execution_count": 2,
   "metadata": {},
   "outputs": [],
   "source": [
    "RANDOM_SEED = 35\n",
    "\n",
    "pd.set_option('display.max_colwidth', 100)"
   ]
  },
  {
   "cell_type": "markdown",
   "metadata": {},
   "source": [
    "# Данные"
   ]
  },
  {
   "cell_type": "code",
   "execution_count": 3,
   "metadata": {},
   "outputs": [],
   "source": [
    "test_path = '../data/test.csv'\n",
    "train_path = '../data/short_train.csv'"
   ]
  },
  {
   "cell_type": "code",
   "execution_count": 4,
   "metadata": {},
   "outputs": [],
   "source": [
    "df = load_dataset(train_path)\n",
    "test_df = load_dataset(test_path)"
   ]
  },
  {
   "cell_type": "markdown",
   "metadata": {},
   "source": [
    "# Обучение"
   ]
  },
  {
   "cell_type": "code",
   "execution_count": 5,
   "metadata": {},
   "outputs": [],
   "source": [
    "cb_params = {\n",
    "    'text_features': ['text'],\n",
    "    'text_processing': TEXT_PROCESSING,\n",
    "    'iterations': 100,\n",
    "}"
   ]
  },
  {
   "cell_type": "code",
   "execution_count": 6,
   "metadata": {},
   "outputs": [],
   "source": [
    "cb_pipeline = get_cb_pipeline(cb_params)"
   ]
  },
  {
   "cell_type": "code",
   "execution_count": 7,
   "metadata": {},
   "outputs": [],
   "source": [
    "cv = StratifiedKFold(n_splits=5, shuffle=True, random_state=RANDOM_SEED)"
   ]
  },
  {
   "cell_type": "code",
   "execution_count": 8,
   "metadata": {},
   "outputs": [
    {
     "name": "stderr",
     "output_type": "stream",
     "text": [
      "[Parallel(n_jobs=5)]: Using backend LokyBackend with 5 concurrent workers.\n",
      "[Parallel(n_jobs=5)]: Done   2 out of   5 | elapsed:   30.8s remaining:   46.2s\n",
      "[Parallel(n_jobs=5)]: Done   5 out of   5 | elapsed:   30.9s finished\n"
     ]
    }
   ],
   "source": [
    "cv_scores = cross_val_score(\n",
    "    cb_pipeline,\n",
    "    df[['text']],\n",
    "    df['label'],\n",
    "    cv=cv,\n",
    "    n_jobs=5,\n",
    "    scoring='roc_auc',\n",
    "    verbose=1,\n",
    "#     fit_params={'verbose': False}\n",
    ")"
   ]
  },
  {
   "cell_type": "code",
   "execution_count": 9,
   "metadata": {},
   "outputs": [
    {
     "data": {
      "text/plain": [
       "array([0.8752202 , 0.88294055, 0.88542286, 0.88144197, 0.88801323])"
      ]
     },
     "execution_count": 9,
     "metadata": {},
     "output_type": "execute_result"
    }
   ],
   "source": [
    "cv_scores"
   ]
  },
  {
   "cell_type": "markdown",
   "metadata": {},
   "source": [
    "О, стало заметно лучше. Бейзлайна."
   ]
  },
  {
   "cell_type": "markdown",
   "metadata": {},
   "source": [
    "## А если без пропроцессинга?"
   ]
  },
  {
   "cell_type": "code",
   "execution_count": 10,
   "metadata": {},
   "outputs": [],
   "source": [
    "text_processing = deepcopy(TEXT_PROCESSING)"
   ]
  },
  {
   "cell_type": "code",
   "execution_count": 11,
   "metadata": {},
   "outputs": [],
   "source": [
    "text_processing[\"feature_processing\"] = {\n",
    "    \"default\": [{\n",
    "            \"dictionaries_names\": [\n",
    "                \"Symbols_1\",\n",
    "                \"Symbols_2\",\n",
    "                \"Symbols_3\",\n",
    "                'Word',\n",
    "                \"BiGram\",\n",
    "                \"TriGram\",\n",
    "            ],\n",
    "            \"feature_calcers\": [\"BoW\"],\n",
    "            \"tokenizers_names\": [\"Sense\"]\n",
    "        }, {\n",
    "            \"dictionaries_names\": [\"Symbols_1\", 'Word'],\n",
    "            \"feature_calcers\": [\"NaiveBayes\"],\n",
    "            \"tokenizers_names\": [\"Sense\"]\n",
    "    }],\n",
    "}"
   ]
  },
  {
   "cell_type": "code",
   "execution_count": 12,
   "metadata": {},
   "outputs": [],
   "source": [
    "cb_params = {\n",
    "    'text_features': ['text'],\n",
    "    'text_processing': text_processing,\n",
    "    'iterations': 100,\n",
    "}"
   ]
  },
  {
   "cell_type": "code",
   "execution_count": 13,
   "metadata": {},
   "outputs": [],
   "source": [
    "cb_pipeline = CatBoostClassifier(**cb_params)"
   ]
  },
  {
   "cell_type": "code",
   "execution_count": 14,
   "metadata": {},
   "outputs": [],
   "source": [
    "cv = StratifiedKFold(n_splits=5, shuffle=True, random_state=RANDOM_SEED)"
   ]
  },
  {
   "cell_type": "code",
   "execution_count": 15,
   "metadata": {},
   "outputs": [
    {
     "name": "stderr",
     "output_type": "stream",
     "text": [
      "[Parallel(n_jobs=5)]: Using backend LokyBackend with 5 concurrent workers.\n",
      "[Parallel(n_jobs=5)]: Done   2 out of   5 | elapsed:   29.6s remaining:   44.3s\n",
      "[Parallel(n_jobs=5)]: Done   5 out of   5 | elapsed:   29.7s finished\n"
     ]
    }
   ],
   "source": [
    "cv_scores = cross_val_score(\n",
    "    cb_pipeline,\n",
    "    df[['text']],\n",
    "    df['label'],\n",
    "    cv=cv,\n",
    "    n_jobs=5,\n",
    "    scoring='roc_auc',\n",
    "    verbose=1,\n",
    "#     fit_params={'verbose': False}\n",
    ")"
   ]
  },
  {
   "cell_type": "code",
   "execution_count": 16,
   "metadata": {},
   "outputs": [
    {
     "data": {
      "text/plain": [
       "array([0.8656952 , 0.85889301, 0.86451546, 0.85999196, 0.86524132])"
      ]
     },
     "execution_count": 16,
     "metadata": {},
     "output_type": "execute_result"
    }
   ],
   "source": [
    "cv_scores"
   ]
  },
  {
   "cell_type": "markdown",
   "metadata": {},
   "source": [
    "Ага, так получается хуже."
   ]
  },
  {
   "cell_type": "code",
   "execution_count": null,
   "metadata": {},
   "outputs": [],
   "source": []
  },
  {
   "cell_type": "markdown",
   "metadata": {},
   "source": [
    "## А если получше обработку сделать?"
   ]
  },
  {
   "cell_type": "code",
   "execution_count": 17,
   "metadata": {},
   "outputs": [],
   "source": [
    "text_processing = deepcopy(TEXT_PROCESSING)"
   ]
  },
  {
   "cell_type": "code",
   "execution_count": 18,
   "metadata": {},
   "outputs": [],
   "source": [
    "text_processing[\"feature_processing\"] = {\n",
    "    \"default\": [{\n",
    "            \"dictionaries_names\": [\n",
    "                \"Symbols_1\",\n",
    "                \"Symbols_2\",\n",
    "                \"Symbols_3\",\n",
    "                'Word',\n",
    "                \"BiGram\",\n",
    "                \"TriGram\",\n",
    "            ],\n",
    "            \"feature_calcers\": [\"BoW\"],\n",
    "            \"tokenizers_names\": [\"Space\"]\n",
    "        }, {\n",
    "            \"dictionaries_names\": [\"Symbols_1\", 'Word'],\n",
    "            \"feature_calcers\": [\"NaiveBayes\", 'BM25'],\n",
    "            \"tokenizers_names\": [\"Space\"]\n",
    "    }],\n",
    "}"
   ]
  },
  {
   "cell_type": "code",
   "execution_count": 19,
   "metadata": {},
   "outputs": [],
   "source": [
    "cb_params = {\n",
    "    'text_features': ['text'],\n",
    "    'text_processing': text_processing,\n",
    "    'iterations': 100,\n",
    "}"
   ]
  },
  {
   "cell_type": "code",
   "execution_count": 20,
   "metadata": {},
   "outputs": [],
   "source": [
    "cb_pipeline = get_cb_pipeline(cb_params)"
   ]
  },
  {
   "cell_type": "code",
   "execution_count": 21,
   "metadata": {},
   "outputs": [],
   "source": [
    "cv = StratifiedKFold(n_splits=5, shuffle=True, random_state=RANDOM_SEED)"
   ]
  },
  {
   "cell_type": "code",
   "execution_count": 22,
   "metadata": {},
   "outputs": [
    {
     "name": "stderr",
     "output_type": "stream",
     "text": [
      "[Parallel(n_jobs=5)]: Using backend LokyBackend with 5 concurrent workers.\n",
      "[Parallel(n_jobs=5)]: Done   2 out of   5 | elapsed:   31.5s remaining:   47.2s\n",
      "[Parallel(n_jobs=5)]: Done   5 out of   5 | elapsed:   31.5s finished\n"
     ]
    }
   ],
   "source": [
    "cv_scores = cross_val_score(\n",
    "    cb_pipeline,\n",
    "    df[['text']],\n",
    "    df['label'],\n",
    "    cv=cv,\n",
    "    n_jobs=5,\n",
    "    scoring='roc_auc',\n",
    "    verbose=1,\n",
    "#     fit_params={'verbose': False}\n",
    ")"
   ]
  },
  {
   "cell_type": "code",
   "execution_count": 23,
   "metadata": {},
   "outputs": [
    {
     "data": {
      "text/plain": [
       "array([0.8787248 , 0.88681534, 0.88543341, 0.88265743, 0.88977954])"
      ]
     },
     "execution_count": 23,
     "metadata": {},
     "output_type": "execute_result"
    }
   ],
   "source": [
    "cv_scores"
   ]
  },
  {
   "cell_type": "markdown",
   "metadata": {},
   "source": [
    "Лучше не стало, всё так же."
   ]
  },
  {
   "cell_type": "code",
   "execution_count": null,
   "metadata": {},
   "outputs": [],
   "source": []
  },
  {
   "cell_type": "markdown",
   "metadata": {},
   "source": [
    "## А если деревьев больше брать?"
   ]
  },
  {
   "cell_type": "code",
   "execution_count": 24,
   "metadata": {},
   "outputs": [],
   "source": [
    "cb_params = {\n",
    "    'text_features': ['text'],\n",
    "    'text_processing': TEXT_PROCESSING,\n",
    "    'iterations': 1000,\n",
    "}"
   ]
  },
  {
   "cell_type": "code",
   "execution_count": 25,
   "metadata": {},
   "outputs": [],
   "source": [
    "cb_pipeline = get_cb_pipeline(cb_params)\n",
    "cv = StratifiedKFold(n_splits=5, shuffle=True, random_state=RANDOM_SEED)"
   ]
  },
  {
   "cell_type": "code",
   "execution_count": 26,
   "metadata": {},
   "outputs": [
    {
     "name": "stderr",
     "output_type": "stream",
     "text": [
      "[Parallel(n_jobs=5)]: Using backend LokyBackend with 5 concurrent workers.\n",
      "[Parallel(n_jobs=5)]: Done   2 out of   5 | elapsed:  4.1min remaining:  6.2min\n",
      "[Parallel(n_jobs=5)]: Done   5 out of   5 | elapsed:  4.1min finished\n"
     ]
    }
   ],
   "source": [
    "cv_scores = cross_val_score(\n",
    "    cb_pipeline,\n",
    "    df[['text']],\n",
    "    df['label'],\n",
    "    cv=cv,\n",
    "    n_jobs=5,\n",
    "    scoring='roc_auc',\n",
    "    verbose=1,\n",
    "#     fit_params={'verbose': False}\n",
    ")"
   ]
  },
  {
   "cell_type": "code",
   "execution_count": 27,
   "metadata": {},
   "outputs": [
    {
     "data": {
      "text/plain": [
       "array([0.87809402, 0.88450086, 0.8875916 , 0.88360233, 0.88885738])"
      ]
     },
     "execution_count": 27,
     "metadata": {},
     "output_type": "execute_result"
    }
   ],
   "source": [
    "cv_scores"
   ]
  },
  {
   "cell_type": "markdown",
   "metadata": {},
   "source": [
    "Забавно, это не слишком помогает."
   ]
  },
  {
   "cell_type": "markdown",
   "metadata": {},
   "source": [
    "## Итоговое обучение"
   ]
  },
  {
   "cell_type": "code",
   "execution_count": 28,
   "metadata": {},
   "outputs": [],
   "source": [
    "cb_params = {\n",
    "    'text_features': ['text'],\n",
    "    'text_processing': TEXT_PROCESSING,\n",
    "    'iterations': 100,\n",
    "}"
   ]
  },
  {
   "cell_type": "code",
   "execution_count": 29,
   "metadata": {},
   "outputs": [],
   "source": [
    "cb_pipeline = get_cb_pipeline(cb_params)"
   ]
  },
  {
   "cell_type": "code",
   "execution_count": 30,
   "metadata": {},
   "outputs": [
    {
     "name": "stdout",
     "output_type": "stream",
     "text": [
      "Learning rate set to 0.238417\n",
      "0:\tlearn: 0.6234507\ttotal: 138ms\tremaining: 13.7s\n",
      "1:\tlearn: 0.5783289\ttotal: 190ms\tremaining: 9.3s\n",
      "2:\tlearn: 0.5487682\ttotal: 241ms\tremaining: 7.79s\n",
      "3:\tlearn: 0.5298199\ttotal: 292ms\tremaining: 7.02s\n",
      "4:\tlearn: 0.5171517\ttotal: 343ms\tremaining: 6.52s\n",
      "5:\tlearn: 0.5059533\ttotal: 396ms\tremaining: 6.21s\n",
      "6:\tlearn: 0.4986358\ttotal: 451ms\tremaining: 5.99s\n",
      "7:\tlearn: 0.4913056\ttotal: 502ms\tremaining: 5.77s\n",
      "8:\tlearn: 0.4873710\ttotal: 552ms\tremaining: 5.58s\n",
      "9:\tlearn: 0.4829641\ttotal: 603ms\tremaining: 5.43s\n",
      "10:\tlearn: 0.4790995\ttotal: 654ms\tremaining: 5.29s\n",
      "11:\tlearn: 0.4772968\ttotal: 704ms\tremaining: 5.16s\n",
      "12:\tlearn: 0.4753079\ttotal: 755ms\tremaining: 5.05s\n",
      "13:\tlearn: 0.4735989\ttotal: 805ms\tremaining: 4.94s\n",
      "14:\tlearn: 0.4719344\ttotal: 855ms\tremaining: 4.84s\n",
      "15:\tlearn: 0.4707942\ttotal: 905ms\tremaining: 4.75s\n",
      "16:\tlearn: 0.4691704\ttotal: 958ms\tremaining: 4.67s\n",
      "17:\tlearn: 0.4681852\ttotal: 1.01s\tremaining: 4.6s\n",
      "18:\tlearn: 0.4672717\ttotal: 1.06s\tremaining: 4.52s\n",
      "19:\tlearn: 0.4661629\ttotal: 1.11s\tremaining: 4.44s\n",
      "20:\tlearn: 0.4651073\ttotal: 1.16s\tremaining: 4.37s\n",
      "21:\tlearn: 0.4637839\ttotal: 1.21s\tremaining: 4.3s\n",
      "22:\tlearn: 0.4630662\ttotal: 1.26s\tremaining: 4.23s\n",
      "23:\tlearn: 0.4619099\ttotal: 1.31s\tremaining: 4.16s\n",
      "24:\tlearn: 0.4606764\ttotal: 1.36s\tremaining: 4.09s\n",
      "25:\tlearn: 0.4595904\ttotal: 1.42s\tremaining: 4.04s\n",
      "26:\tlearn: 0.4583994\ttotal: 1.47s\tremaining: 3.99s\n",
      "27:\tlearn: 0.4582570\ttotal: 1.52s\tremaining: 3.92s\n",
      "28:\tlearn: 0.4572943\ttotal: 1.57s\tremaining: 3.86s\n",
      "29:\tlearn: 0.4566449\ttotal: 1.63s\tremaining: 3.79s\n",
      "30:\tlearn: 0.4557212\ttotal: 1.68s\tremaining: 3.73s\n",
      "31:\tlearn: 0.4548856\ttotal: 1.73s\tremaining: 3.67s\n",
      "32:\tlearn: 0.4545741\ttotal: 1.78s\tremaining: 3.61s\n",
      "33:\tlearn: 0.4539882\ttotal: 1.83s\tremaining: 3.55s\n",
      "34:\tlearn: 0.4532226\ttotal: 1.88s\tremaining: 3.49s\n",
      "35:\tlearn: 0.4524109\ttotal: 1.93s\tremaining: 3.43s\n",
      "36:\tlearn: 0.4516697\ttotal: 1.98s\tremaining: 3.37s\n",
      "37:\tlearn: 0.4508654\ttotal: 2.03s\tremaining: 3.31s\n",
      "38:\tlearn: 0.4500954\ttotal: 2.08s\tremaining: 3.25s\n",
      "39:\tlearn: 0.4491172\ttotal: 2.13s\tremaining: 3.19s\n",
      "40:\tlearn: 0.4482812\ttotal: 2.18s\tremaining: 3.14s\n",
      "41:\tlearn: 0.4470551\ttotal: 2.23s\tremaining: 3.08s\n",
      "42:\tlearn: 0.4461788\ttotal: 2.28s\tremaining: 3.03s\n",
      "43:\tlearn: 0.4452099\ttotal: 2.33s\tremaining: 2.97s\n",
      "44:\tlearn: 0.4445327\ttotal: 2.38s\tremaining: 2.92s\n",
      "45:\tlearn: 0.4432901\ttotal: 2.44s\tremaining: 2.87s\n",
      "46:\tlearn: 0.4426231\ttotal: 2.5s\tremaining: 2.81s\n",
      "47:\tlearn: 0.4424468\ttotal: 2.54s\tremaining: 2.76s\n",
      "48:\tlearn: 0.4412919\ttotal: 2.6s\tremaining: 2.7s\n",
      "49:\tlearn: 0.4400798\ttotal: 2.65s\tremaining: 2.65s\n",
      "50:\tlearn: 0.4392756\ttotal: 2.7s\tremaining: 2.59s\n",
      "51:\tlearn: 0.4391073\ttotal: 2.75s\tremaining: 2.54s\n",
      "52:\tlearn: 0.4383092\ttotal: 2.8s\tremaining: 2.48s\n",
      "53:\tlearn: 0.4375801\ttotal: 2.85s\tremaining: 2.43s\n",
      "54:\tlearn: 0.4374187\ttotal: 2.9s\tremaining: 2.38s\n",
      "55:\tlearn: 0.4364667\ttotal: 2.95s\tremaining: 2.32s\n",
      "56:\tlearn: 0.4357575\ttotal: 3s\tremaining: 2.27s\n",
      "57:\tlearn: 0.4346695\ttotal: 3.05s\tremaining: 2.21s\n",
      "58:\tlearn: 0.4345291\ttotal: 3.1s\tremaining: 2.16s\n",
      "59:\tlearn: 0.4344053\ttotal: 3.15s\tremaining: 2.1s\n",
      "60:\tlearn: 0.4342947\ttotal: 3.2s\tremaining: 2.05s\n",
      "61:\tlearn: 0.4341912\ttotal: 3.25s\tremaining: 1.99s\n",
      "62:\tlearn: 0.4332431\ttotal: 3.3s\tremaining: 1.94s\n",
      "63:\tlearn: 0.4327643\ttotal: 3.35s\tremaining: 1.89s\n",
      "64:\tlearn: 0.4321069\ttotal: 3.4s\tremaining: 1.83s\n",
      "65:\tlearn: 0.4320067\ttotal: 3.46s\tremaining: 1.78s\n",
      "66:\tlearn: 0.4311840\ttotal: 3.51s\tremaining: 1.73s\n",
      "67:\tlearn: 0.4306355\ttotal: 3.56s\tremaining: 1.68s\n",
      "68:\tlearn: 0.4302022\ttotal: 3.61s\tremaining: 1.62s\n",
      "69:\tlearn: 0.4297548\ttotal: 3.66s\tremaining: 1.57s\n",
      "70:\tlearn: 0.4286954\ttotal: 3.71s\tremaining: 1.52s\n",
      "71:\tlearn: 0.4279090\ttotal: 3.76s\tremaining: 1.46s\n",
      "72:\tlearn: 0.4273463\ttotal: 3.81s\tremaining: 1.41s\n",
      "73:\tlearn: 0.4264771\ttotal: 3.87s\tremaining: 1.36s\n",
      "74:\tlearn: 0.4263835\ttotal: 3.92s\tremaining: 1.3s\n",
      "75:\tlearn: 0.4253916\ttotal: 3.97s\tremaining: 1.25s\n",
      "76:\tlearn: 0.4246197\ttotal: 4.02s\tremaining: 1.2s\n",
      "77:\tlearn: 0.4245201\ttotal: 4.07s\tremaining: 1.15s\n",
      "78:\tlearn: 0.4240181\ttotal: 4.12s\tremaining: 1.09s\n",
      "79:\tlearn: 0.4229472\ttotal: 4.17s\tremaining: 1.04s\n",
      "80:\tlearn: 0.4228510\ttotal: 4.22s\tremaining: 991ms\n",
      "81:\tlearn: 0.4222900\ttotal: 4.27s\tremaining: 938ms\n",
      "82:\tlearn: 0.4217946\ttotal: 4.32s\tremaining: 886ms\n",
      "83:\tlearn: 0.4211436\ttotal: 4.37s\tremaining: 833ms\n",
      "84:\tlearn: 0.4203804\ttotal: 4.43s\tremaining: 782ms\n",
      "85:\tlearn: 0.4197742\ttotal: 4.48s\tremaining: 730ms\n",
      "86:\tlearn: 0.4196907\ttotal: 4.54s\tremaining: 678ms\n",
      "87:\tlearn: 0.4187144\ttotal: 4.59s\tremaining: 626ms\n",
      "88:\tlearn: 0.4174736\ttotal: 4.65s\tremaining: 574ms\n",
      "89:\tlearn: 0.4171132\ttotal: 4.7s\tremaining: 522ms\n",
      "90:\tlearn: 0.4170103\ttotal: 4.75s\tremaining: 470ms\n",
      "91:\tlearn: 0.4159633\ttotal: 4.8s\tremaining: 417ms\n",
      "92:\tlearn: 0.4158668\ttotal: 4.85s\tremaining: 365ms\n",
      "93:\tlearn: 0.4157871\ttotal: 4.9s\tremaining: 313ms\n",
      "94:\tlearn: 0.4156521\ttotal: 4.95s\tremaining: 260ms\n",
      "95:\tlearn: 0.4155549\ttotal: 5s\tremaining: 208ms\n",
      "96:\tlearn: 0.4154853\ttotal: 5.05s\tremaining: 156ms\n",
      "97:\tlearn: 0.4148817\ttotal: 5.1s\tremaining: 104ms\n",
      "98:\tlearn: 0.4141210\ttotal: 5.15s\tremaining: 52ms\n",
      "99:\tlearn: 0.4140360\ttotal: 5.2s\tremaining: 0us\n"
     ]
    },
    {
     "data": {
      "text/plain": [
       "Pipeline(steps=[('preproc',\n",
       "                 <module.prepare_data.Preprocessor object at 0x7f670212b630>),\n",
       "                ('clf',\n",
       "                 <catboost.core.CatBoostClassifier object at 0x7f670212b588>)])"
      ]
     },
     "execution_count": 30,
     "metadata": {},
     "output_type": "execute_result"
    }
   ],
   "source": [
    "cb_pipeline.fit(df[['text']], df['label'])"
   ]
  },
  {
   "cell_type": "markdown",
   "metadata": {},
   "source": [
    "## Проверка на отложенном датасете"
   ]
  },
  {
   "cell_type": "code",
   "execution_count": 31,
   "metadata": {},
   "outputs": [],
   "source": [
    "test_label = test_df['label']"
   ]
  },
  {
   "cell_type": "code",
   "execution_count": 32,
   "metadata": {},
   "outputs": [],
   "source": [
    "test_prediction = cb_pipeline.predict_proba(test_df[['text']])[:, 1]"
   ]
  },
  {
   "cell_type": "code",
   "execution_count": 33,
   "metadata": {},
   "outputs": [
    {
     "data": {
      "text/plain": [
       "0.8855504018321223"
      ]
     },
     "execution_count": 33,
     "metadata": {},
     "output_type": "execute_result"
    }
   ],
   "source": [
    "roc_auc_score(test_label, test_prediction)"
   ]
  },
  {
   "cell_type": "code",
   "execution_count": 34,
   "metadata": {},
   "outputs": [
    {
     "data": {
      "image/png": "[encoded data removed]",
      "text/plain": [
       "<Figure size 576x576 with 1 Axes>"
      ]
     },
     "metadata": {
      "needs_background": "light"
     },
     "output_type": "display_data"
    }
   ],
   "source": [
    "fg, ax = plt.subplots(1, 1, figsize=(8,8))\n",
    "plot_roc_curve(cb_pipeline, test_df[['text']], test_label, ax=ax)\n",
    "plt.grid()"
   ]
  },
  {
   "cell_type": "code",
   "execution_count": null,
   "metadata": {},
   "outputs": [],
   "source": []
  },
  {
   "cell_type": "code",
   "execution_count": null,
   "metadata": {},
   "outputs": [],
   "source": []
  },
  {
   "cell_type": "code",
   "execution_count": null,
   "metadata": {},
   "outputs": [],
   "source": []
  },
  {
   "cell_type": "markdown",
   "metadata": {},
   "source": [
    "###  Сохранение модели"
   ]
  },
  {
   "cell_type": "code",
   "execution_count": 35,
   "metadata": {},
   "outputs": [],
   "source": [
    "model_path = '../models/model.pkl.gz'"
   ]
  },
  {
   "cell_type": "code",
   "execution_count": 36,
   "metadata": {},
   "outputs": [],
   "source": [
    "save_pipeline(cb_pipeline, model_path)"
   ]
  },
  {
   "cell_type": "code",
   "execution_count": 37,
   "metadata": {},
   "outputs": [],
   "source": [
    "restored_pipeline = load_pipeline(model_path)"
   ]
  },
  {
   "cell_type": "code",
   "execution_count": 38,
   "metadata": {},
   "outputs": [],
   "source": [
    "restored_test_prediction = restored_pipeline.predict_proba(test_df[['text']])[:, 1]"
   ]
  },
  {
   "cell_type": "code",
   "execution_count": 39,
   "metadata": {},
   "outputs": [],
   "source": [
    "assert (restored_test_prediction == test_prediction).all()"
   ]
  },
  {
   "cell_type": "code",
   "execution_count": 40,
   "metadata": {},
   "outputs": [
    {
     "data": {
      "text/plain": [
       "0.8855504018321223"
      ]
     },
     "execution_count": 40,
     "metadata": {},
     "output_type": "execute_result"
    }
   ],
   "source": [
    "roc_auc_score(test_label, restored_test_prediction)"
   ]
  },
  {
   "cell_type": "code",
   "execution_count": null,
   "metadata": {},
   "outputs": [],
   "source": []
  }
 ],
 "metadata": {
  "kernelspec": {
   "display_name": "sber_help_task",
   "language": "python",
   "name": "sber_help_task"
  },
  "language_info": {
   "codemirror_mode": {
    "name": "ipython",
    "version": 3
   },
   "file_extension": ".py",
   "mimetype": "text/x-python",
   "name": "python",
   "nbconvert_exporter": "python",
   "pygments_lexer": "ipython3",
   "version": "3.6.9"
  }
 },
 "nbformat": 4,
 "nbformat_minor": 2
}
