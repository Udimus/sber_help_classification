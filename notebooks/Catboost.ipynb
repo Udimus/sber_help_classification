{
 "cells": [
  {
   "cell_type": "markdown",
   "metadata": {},
   "source": [
    "# Задача\n",
    "\n",
    "Реализуем pipeline с использование текстовых признаков catboost."
   ]
  },
  {
   "cell_type": "markdown",
   "metadata": {},
   "source": [
    "# Импорты\n"
   ]
  },
  {
   "cell_type": "code",
   "execution_count": 1,
   "metadata": {},
   "outputs": [],
   "source": [
    "import re\n",
    "from string import punctuation\n",
    "\n",
    "import pandas as pd\n",
    "import numpy as np\n",
    "import nltk\n",
    "from nltk.stem.snowball import RussianStemmer\n",
    "from nltk.stem import WordNetLemmatizer\n",
    "from nltk.corpus import wordnet\n",
    "from nltk.corpus import stopwords\n",
    "from pymystem3 import Mystem\n",
    "import matplotlib.pyplot as plt\n",
    "from sklearn.metrics import roc_auc_score, plot_roc_curve\n",
    "from sklearn.base import TransformerMixin\n",
    "from sklearn.model_selection import cross_val_score, StratifiedKFold\n",
    "from sklearn.pipeline import Pipeline\n",
    "from catboost import CatBoostClassifier\n",
    "%matplotlib inline\n",
    "\n",
    "from module.prepare_data import load_dataset, Preprocessor"
   ]
  },
  {
   "cell_type": "code",
   "execution_count": 2,
   "metadata": {},
   "outputs": [],
   "source": [
    "RANDOM_SEED = 35\n",
    "\n",
    "pd.set_option('display.max_colwidth', 100)"
   ]
  },
  {
   "cell_type": "markdown",
   "metadata": {},
   "source": [
    "# Данные"
   ]
  },
  {
   "cell_type": "code",
   "execution_count": 3,
   "metadata": {},
   "outputs": [],
   "source": [
    "test_path = '../data/test.csv'\n",
    "train_path = '../data/short_train.csv'"
   ]
  },
  {
   "cell_type": "code",
   "execution_count": 4,
   "metadata": {},
   "outputs": [],
   "source": [
    "df = load_dataset(train_path)\n",
    "test_df = load_dataset(test_path)"
   ]
  },
  {
   "cell_type": "markdown",
   "metadata": {},
   "source": [
    "# Обучение"
   ]
  },
  {
   "cell_type": "code",
   "execution_count": 21,
   "metadata": {},
   "outputs": [],
   "source": [
    "def get_cb_pipeline(catboost_args):\n",
    "    return Pipeline([\n",
    "        ('preproc', Preprocessor('text')),\n",
    "        ('clf', CatBoostClassifier(**catboost_args))\n",
    "    ])"
   ]
  },
  {
   "cell_type": "code",
   "execution_count": 22,
   "metadata": {},
   "outputs": [],
   "source": [
    "TEXT_PROCESSING = {\n",
    "    \"tokenizers\": [{\n",
    "        \"tokenizer_id\": \"Space\",\n",
    "        \"separator_type\": 'ByDelimiter',\n",
    "        \"delimiter\": \" \",\n",
    "        \"lowercasing\": \"true\",\n",
    "        \"sub_tokens_policy\": 'SingleToken',\n",
    "    },{\n",
    "        \"tokenizer_id\": \"Sense\",\n",
    "        \"separator_type\": 'BySense',\n",
    "        \"lowercasing\": \"true\",\n",
    "        \"sub_tokens_policy\": 'SingleToken',\n",
    "    }],\n",
    "    \"dictionaries\": [{\n",
    "            \"dictionary_id\": \"Word\",\n",
    "            \"gram_order\": \"1\",\n",
    "            \"max_dictionary_size\": \"50000\",\n",
    "            \"occurrence_lower_bound\": \"3\",\n",
    "        }, {\n",
    "            \"dictionary_id\": \"BiGram\",\n",
    "            \"gram_order\": \"2\",\n",
    "            \"max_dictionary_size\": \"50000\",\n",
    "            \"occurrence_lower_bound\": \"3\",\n",
    "        }, {\n",
    "            \"dictionary_id\": \"TriGram\",\n",
    "            \"gram_order\": \"3\",\n",
    "            \"max_dictionary_size\": \"50000\",\n",
    "            \"occurrence_lower_bound\": \"3\",\n",
    "        }, {\n",
    "            \"dictionary_id\": \"Symbols_1\",\n",
    "            \"token_level_type\": \"Letter\",\n",
    "            \"gram_order\": \"1\",\n",
    "            \"max_dictionary_size\": \"500\",\n",
    "            \"occurrence_lower_bound\": \"1\",\n",
    "        }, {\n",
    "            \"dictionary_id\": \"Symbols_2\",\n",
    "            \"token_level_type\": \"Letter\",\n",
    "            \"gram_order\": \"2\",\n",
    "            \"max_dictionary_size\": \"2500\",\n",
    "            \"occurrence_lower_bound\": \"2\",\n",
    "        }, {\n",
    "            \"dictionary_id\": \"Symbols_3\",\n",
    "            \"token_level_type\": \"Letter\",\n",
    "            \"gram_order\": \"3\",\n",
    "            \"max_dictionary_size\": \"10000\",\n",
    "            \"occurrence_lower_bound\": \"10\",\n",
    "        }],\n",
    "    \"feature_processing\": {\n",
    "        \"default\": [{\n",
    "                \"dictionaries_names\": [\n",
    "                    \"Symbols_1\",\n",
    "                    \"Symbols_2\",\n",
    "                    \"Symbols_3\",\n",
    "                    'Word',\n",
    "                    \"BiGram\",\n",
    "                    \"TriGram\",\n",
    "                ],\n",
    "                \"feature_calcers\": [\"BoW\"],\n",
    "                \"tokenizers_names\": [\"Space\"]\n",
    "            }, {\n",
    "                \"dictionaries_names\": [\"Symbols_1\", 'Word'],\n",
    "                \"feature_calcers\": [\"NaiveBayes\"],\n",
    "                \"tokenizers_names\": [\"Space\"]\n",
    "        }],\n",
    "    }\n",
    "}"
   ]
  },
  {
   "cell_type": "code",
   "execution_count": 23,
   "metadata": {},
   "outputs": [],
   "source": [
    "cb_params = {\n",
    "    'text_features': ['text'],\n",
    "    'text_processing': TEXT_PROCESSING,\n",
    "    'iterations': 100,\n",
    "}"
   ]
  },
  {
   "cell_type": "code",
   "execution_count": 24,
   "metadata": {},
   "outputs": [],
   "source": [
    "cb_pipeline = get_cb_pipeline(cb_params)"
   ]
  },
  {
   "cell_type": "code",
   "execution_count": 25,
   "metadata": {},
   "outputs": [],
   "source": [
    "cv = StratifiedKFold(n_splits=5, shuffle=True, random_state=RANDOM_SEED)"
   ]
  },
  {
   "cell_type": "code",
   "execution_count": 26,
   "metadata": {},
   "outputs": [
    {
     "name": "stderr",
     "output_type": "stream",
     "text": [
      "[Parallel(n_jobs=5)]: Using backend LokyBackend with 5 concurrent workers.\n",
      "[Parallel(n_jobs=5)]: Done   2 out of   5 | elapsed:   30.0s remaining:   45.1s\n",
      "[Parallel(n_jobs=5)]: Done   5 out of   5 | elapsed:   30.1s finished\n"
     ]
    }
   ],
   "source": [
    "cv_scores = cross_val_score(\n",
    "    cb_pipeline,\n",
    "    df[['text']],\n",
    "    df['label'],\n",
    "    cv=cv,\n",
    "    n_jobs=5,\n",
    "    scoring='roc_auc',\n",
    "    verbose=1,\n",
    "#     fit_params={'verbose': False}\n",
    ")"
   ]
  },
  {
   "cell_type": "code",
   "execution_count": 27,
   "metadata": {},
   "outputs": [
    {
     "data": {
      "text/plain": [
       "array([0.87646471, 0.88053434, 0.88381659, 0.8826038 , 0.88625179])"
      ]
     },
     "execution_count": 27,
     "metadata": {},
     "output_type": "execute_result"
    }
   ],
   "source": [
    "cv_scores"
   ]
  },
  {
   "cell_type": "markdown",
   "metadata": {},
   "source": [
    "О, стало заметно лучше. Бейзлайна."
   ]
  },
  {
   "cell_type": "markdown",
   "metadata": {},
   "source": [
    "## Проверка на отложенном датасете"
   ]
  },
  {
   "cell_type": "code",
   "execution_count": 35,
   "metadata": {},
   "outputs": [],
   "source": [
    "cb_pipeline = get_cb_pipeline()"
   ]
  },
  {
   "cell_type": "code",
   "execution_count": 28,
   "metadata": {},
   "outputs": [
    {
     "name": "stdout",
     "output_type": "stream",
     "text": [
      "Learning rate set to 0.238417\n",
      "0:\tlearn: 0.6254532\ttotal: 59.2ms\tremaining: 5.86s\n",
      "1:\tlearn: 0.5779319\ttotal: 113ms\tremaining: 5.55s\n",
      "2:\tlearn: 0.5498677\ttotal: 168ms\tremaining: 5.43s\n",
      "3:\tlearn: 0.5290903\ttotal: 224ms\tremaining: 5.39s\n",
      "4:\tlearn: 0.5153863\ttotal: 279ms\tremaining: 5.3s\n",
      "5:\tlearn: 0.5057627\ttotal: 334ms\tremaining: 5.22s\n",
      "6:\tlearn: 0.4990193\ttotal: 386ms\tremaining: 5.13s\n",
      "7:\tlearn: 0.4936615\ttotal: 439ms\tremaining: 5.05s\n",
      "8:\tlearn: 0.4875760\ttotal: 492ms\tremaining: 4.98s\n",
      "9:\tlearn: 0.4840218\ttotal: 547ms\tremaining: 4.93s\n",
      "10:\tlearn: 0.4810028\ttotal: 602ms\tremaining: 4.87s\n",
      "11:\tlearn: 0.4785382\ttotal: 655ms\tremaining: 4.8s\n",
      "12:\tlearn: 0.4765381\ttotal: 713ms\tremaining: 4.77s\n",
      "13:\tlearn: 0.4754219\ttotal: 767ms\tremaining: 4.71s\n",
      "14:\tlearn: 0.4744015\ttotal: 823ms\tremaining: 4.66s\n",
      "15:\tlearn: 0.4727948\ttotal: 880ms\tremaining: 4.62s\n",
      "16:\tlearn: 0.4704045\ttotal: 936ms\tremaining: 4.57s\n",
      "17:\tlearn: 0.4693729\ttotal: 989ms\tremaining: 4.51s\n",
      "18:\tlearn: 0.4675882\ttotal: 1.05s\tremaining: 4.49s\n",
      "19:\tlearn: 0.4670485\ttotal: 1.11s\tremaining: 4.45s\n",
      "20:\tlearn: 0.4658670\ttotal: 1.17s\tremaining: 4.39s\n",
      "21:\tlearn: 0.4648213\ttotal: 1.22s\tremaining: 4.32s\n",
      "22:\tlearn: 0.4637952\ttotal: 1.27s\tremaining: 4.26s\n",
      "23:\tlearn: 0.4628351\ttotal: 1.33s\tremaining: 4.22s\n",
      "24:\tlearn: 0.4617855\ttotal: 1.39s\tremaining: 4.18s\n",
      "25:\tlearn: 0.4611248\ttotal: 1.45s\tremaining: 4.13s\n",
      "26:\tlearn: 0.4603412\ttotal: 1.51s\tremaining: 4.08s\n",
      "27:\tlearn: 0.4595057\ttotal: 1.57s\tremaining: 4.03s\n",
      "28:\tlearn: 0.4583747\ttotal: 1.63s\tremaining: 3.98s\n",
      "29:\tlearn: 0.4574583\ttotal: 1.69s\tremaining: 3.94s\n",
      "30:\tlearn: 0.4570282\ttotal: 1.74s\tremaining: 3.88s\n",
      "31:\tlearn: 0.4560318\ttotal: 1.8s\tremaining: 3.83s\n",
      "32:\tlearn: 0.4552068\ttotal: 1.87s\tremaining: 3.79s\n",
      "33:\tlearn: 0.4544074\ttotal: 1.93s\tremaining: 3.75s\n",
      "34:\tlearn: 0.4532911\ttotal: 2s\tremaining: 3.71s\n",
      "35:\tlearn: 0.4521434\ttotal: 2.06s\tremaining: 3.66s\n",
      "36:\tlearn: 0.4514070\ttotal: 2.12s\tremaining: 3.61s\n",
      "37:\tlearn: 0.4507428\ttotal: 2.17s\tremaining: 3.55s\n",
      "38:\tlearn: 0.4500543\ttotal: 2.23s\tremaining: 3.48s\n",
      "39:\tlearn: 0.4490981\ttotal: 2.28s\tremaining: 3.42s\n",
      "40:\tlearn: 0.4489599\ttotal: 2.34s\tremaining: 3.37s\n",
      "41:\tlearn: 0.4482972\ttotal: 2.4s\tremaining: 3.31s\n",
      "42:\tlearn: 0.4475156\ttotal: 2.46s\tremaining: 3.26s\n",
      "43:\tlearn: 0.4469277\ttotal: 2.55s\tremaining: 3.24s\n",
      "44:\tlearn: 0.4457306\ttotal: 2.61s\tremaining: 3.19s\n",
      "45:\tlearn: 0.4447174\ttotal: 2.67s\tremaining: 3.14s\n",
      "46:\tlearn: 0.4436112\ttotal: 2.73s\tremaining: 3.08s\n",
      "47:\tlearn: 0.4433896\ttotal: 2.79s\tremaining: 3.02s\n",
      "48:\tlearn: 0.4430009\ttotal: 2.84s\tremaining: 2.96s\n",
      "49:\tlearn: 0.4419187\ttotal: 2.9s\tremaining: 2.9s\n",
      "50:\tlearn: 0.4417386\ttotal: 2.96s\tremaining: 2.84s\n",
      "51:\tlearn: 0.4407451\ttotal: 3.02s\tremaining: 2.79s\n",
      "52:\tlearn: 0.4398572\ttotal: 3.08s\tremaining: 2.73s\n",
      "53:\tlearn: 0.4397148\ttotal: 3.13s\tremaining: 2.67s\n",
      "54:\tlearn: 0.4384592\ttotal: 3.19s\tremaining: 2.61s\n",
      "55:\tlearn: 0.4372119\ttotal: 3.25s\tremaining: 2.56s\n",
      "56:\tlearn: 0.4364532\ttotal: 3.31s\tremaining: 2.5s\n",
      "57:\tlearn: 0.4363199\ttotal: 3.37s\tremaining: 2.44s\n",
      "58:\tlearn: 0.4355641\ttotal: 3.43s\tremaining: 2.38s\n",
      "59:\tlearn: 0.4354538\ttotal: 3.48s\tremaining: 2.32s\n",
      "60:\tlearn: 0.4343148\ttotal: 3.54s\tremaining: 2.26s\n",
      "61:\tlearn: 0.4334340\ttotal: 3.6s\tremaining: 2.21s\n",
      "62:\tlearn: 0.4333346\ttotal: 3.66s\tremaining: 2.15s\n",
      "63:\tlearn: 0.4327000\ttotal: 3.71s\tremaining: 2.09s\n",
      "64:\tlearn: 0.4319260\ttotal: 3.76s\tremaining: 2.03s\n",
      "65:\tlearn: 0.4313722\ttotal: 3.82s\tremaining: 1.97s\n",
      "66:\tlearn: 0.4312608\ttotal: 3.87s\tremaining: 1.91s\n",
      "67:\tlearn: 0.4311601\ttotal: 3.93s\tremaining: 1.85s\n",
      "68:\tlearn: 0.4303482\ttotal: 3.99s\tremaining: 1.79s\n",
      "69:\tlearn: 0.4293280\ttotal: 4.05s\tremaining: 1.73s\n",
      "70:\tlearn: 0.4291706\ttotal: 4.1s\tremaining: 1.68s\n",
      "71:\tlearn: 0.4282883\ttotal: 4.15s\tremaining: 1.61s\n",
      "72:\tlearn: 0.4281771\ttotal: 4.21s\tremaining: 1.55s\n",
      "73:\tlearn: 0.4269434\ttotal: 4.26s\tremaining: 1.5s\n",
      "74:\tlearn: 0.4260879\ttotal: 4.31s\tremaining: 1.44s\n",
      "75:\tlearn: 0.4254163\ttotal: 4.37s\tremaining: 1.38s\n",
      "76:\tlearn: 0.4247769\ttotal: 4.43s\tremaining: 1.32s\n",
      "77:\tlearn: 0.4239635\ttotal: 4.48s\tremaining: 1.26s\n",
      "78:\tlearn: 0.4238593\ttotal: 4.53s\tremaining: 1.2s\n",
      "79:\tlearn: 0.4229194\ttotal: 4.58s\tremaining: 1.15s\n",
      "80:\tlearn: 0.4228252\ttotal: 4.64s\tremaining: 1.09s\n",
      "81:\tlearn: 0.4221026\ttotal: 4.69s\tremaining: 1.03s\n",
      "82:\tlearn: 0.4219933\ttotal: 4.75s\tremaining: 972ms\n",
      "83:\tlearn: 0.4212031\ttotal: 4.8s\tremaining: 915ms\n",
      "84:\tlearn: 0.4205813\ttotal: 4.86s\tremaining: 858ms\n",
      "85:\tlearn: 0.4205050\ttotal: 4.92s\tremaining: 801ms\n",
      "86:\tlearn: 0.4204248\ttotal: 4.98s\tremaining: 744ms\n",
      "87:\tlearn: 0.4203047\ttotal: 5.04s\tremaining: 687ms\n",
      "88:\tlearn: 0.4190485\ttotal: 5.1s\tremaining: 630ms\n",
      "89:\tlearn: 0.4188865\ttotal: 5.16s\tremaining: 573ms\n",
      "90:\tlearn: 0.4187960\ttotal: 5.21s\tremaining: 516ms\n",
      "91:\tlearn: 0.4184960\ttotal: 5.27s\tremaining: 458ms\n",
      "92:\tlearn: 0.4180838\ttotal: 5.33s\tremaining: 401ms\n",
      "93:\tlearn: 0.4173618\ttotal: 5.39s\tremaining: 344ms\n",
      "94:\tlearn: 0.4172662\ttotal: 5.44s\tremaining: 286ms\n",
      "95:\tlearn: 0.4163235\ttotal: 5.51s\tremaining: 229ms\n",
      "96:\tlearn: 0.4158614\ttotal: 5.57s\tremaining: 172ms\n",
      "97:\tlearn: 0.4154985\ttotal: 5.63s\tremaining: 115ms\n",
      "98:\tlearn: 0.4149013\ttotal: 5.68s\tremaining: 57.4ms\n",
      "99:\tlearn: 0.4148263\ttotal: 5.74s\tremaining: 0us\n"
     ]
    },
    {
     "data": {
      "text/plain": [
       "Pipeline(steps=[('preproc',\n",
       "                 <module.prepare_data.Preprocessor object at 0x7fcc2ec8e2e8>),\n",
       "                ('clf',\n",
       "                 <catboost.core.CatBoostClassifier object at 0x7fcc2f15e400>)])"
      ]
     },
     "execution_count": 28,
     "metadata": {},
     "output_type": "execute_result"
    }
   ],
   "source": [
    "cb_pipeline.fit(df[['text']], df['label'])"
   ]
  },
  {
   "cell_type": "code",
   "execution_count": 30,
   "metadata": {},
   "outputs": [],
   "source": [
    "test_label = test_df['label']\n",
    "test_prediction = cb_pipeline.predict_proba(test_df[['text']])[:, 1]"
   ]
  },
  {
   "cell_type": "code",
   "execution_count": 31,
   "metadata": {},
   "outputs": [
    {
     "data": {
      "text/plain": [
       "0.8859514424269288"
      ]
     },
     "execution_count": 31,
     "metadata": {},
     "output_type": "execute_result"
    }
   ],
   "source": [
    "roc_auc_score(test_label, test_prediction)"
   ]
  },
  {
   "cell_type": "code",
   "execution_count": 32,
   "metadata": {},
   "outputs": [
    {
     "data": {
      "image/png": "[encoded data removed]",
      "text/plain": [
       "<Figure size 576x576 with 1 Axes>"
      ]
     },
     "metadata": {
      "needs_background": "light"
     },
     "output_type": "display_data"
    }
   ],
   "source": [
    "fg, ax = plt.subplots(1, 1, figsize=(8,8))\n",
    "plot_roc_curve(cb_pipeline, test_df[['text']], test_label, ax=ax)\n",
    "plt.grid()"
   ]
  },
  {
   "cell_type": "code",
   "execution_count": null,
   "metadata": {},
   "outputs": [],
   "source": []
  }
 ],
 "metadata": {
  "kernelspec": {
   "display_name": "sber_help_task",
   "language": "python",
   "name": "sber_help_task"
  },
  "language_info": {
   "codemirror_mode": {
    "name": "ipython",
    "version": 3
   },
   "file_extension": ".py",
   "mimetype": "text/x-python",
   "name": "python",
   "nbconvert_exporter": "python",
   "pygments_lexer": "ipython3",
   "version": "3.6.9"
  }
 },
 "nbformat": 4,
 "nbformat_minor": 2
}
