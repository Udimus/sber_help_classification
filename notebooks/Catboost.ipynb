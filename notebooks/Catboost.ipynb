{
 "cells": [
  {
   "cell_type": "markdown",
   "metadata": {},
   "source": [
    "# Задача\n",
    "\n",
    "Реализуем pipeline с использование текстовых признаков catboost."
   ]
  },
  {
   "cell_type": "markdown",
   "metadata": {},
   "source": [
    "# Импорты\n"
   ]
  },
  {
   "cell_type": "code",
   "execution_count": 46,
   "metadata": {},
   "outputs": [],
   "source": [
    "import re\n",
    "from string import punctuation\n",
    "from copy import deepcopy\n",
    "\n",
    "import pandas as pd\n",
    "import numpy as np\n",
    "import nltk\n",
    "from nltk.stem.snowball import RussianStemmer\n",
    "from nltk.stem import WordNetLemmatizer\n",
    "from nltk.corpus import wordnet\n",
    "from nltk.corpus import stopwords\n",
    "from pymystem3 import Mystem\n",
    "import matplotlib.pyplot as plt\n",
    "from sklearn.metrics import roc_auc_score, plot_roc_curve\n",
    "from sklearn.base import TransformerMixin\n",
    "from sklearn.model_selection import cross_val_score, StratifiedKFold\n",
    "from sklearn.pipeline import Pipeline\n",
    "from catboost import CatBoostClassifier\n",
    "%matplotlib inline\n",
    "\n",
    "from module.prepare_data import load_dataset, Preprocessor"
   ]
  },
  {
   "cell_type": "code",
   "execution_count": 2,
   "metadata": {},
   "outputs": [],
   "source": [
    "RANDOM_SEED = 35\n",
    "\n",
    "pd.set_option('display.max_colwidth', 100)"
   ]
  },
  {
   "cell_type": "markdown",
   "metadata": {},
   "source": [
    "# Данные"
   ]
  },
  {
   "cell_type": "code",
   "execution_count": 3,
   "metadata": {},
   "outputs": [],
   "source": [
    "test_path = '../data/test.csv'\n",
    "train_path = '../data/short_train.csv'"
   ]
  },
  {
   "cell_type": "code",
   "execution_count": 4,
   "metadata": {},
   "outputs": [],
   "source": [
    "df = load_dataset(train_path)\n",
    "test_df = load_dataset(test_path)"
   ]
  },
  {
   "cell_type": "markdown",
   "metadata": {},
   "source": [
    "# Обучение"
   ]
  },
  {
   "cell_type": "code",
   "execution_count": 21,
   "metadata": {},
   "outputs": [],
   "source": [
    "def get_cb_pipeline(catboost_args):\n",
    "    return Pipeline([\n",
    "        ('preproc', Preprocessor('text')),\n",
    "        ('clf', CatBoostClassifier(**catboost_args))\n",
    "    ])"
   ]
  },
  {
   "cell_type": "code",
   "execution_count": 22,
   "metadata": {},
   "outputs": [],
   "source": [
    "TEXT_PROCESSING = {\n",
    "    \"tokenizers\": [{\n",
    "        \"tokenizer_id\": \"Space\",\n",
    "        \"separator_type\": 'ByDelimiter',\n",
    "        \"delimiter\": \" \",\n",
    "        \"lowercasing\": \"true\",\n",
    "        \"sub_tokens_policy\": 'SingleToken',\n",
    "    },{\n",
    "        \"tokenizer_id\": \"Sense\",\n",
    "        \"separator_type\": 'BySense',\n",
    "        \"lowercasing\": \"true\",\n",
    "        \"sub_tokens_policy\": 'SingleToken',\n",
    "    }],\n",
    "    \"dictionaries\": [{\n",
    "            \"dictionary_id\": \"Word\",\n",
    "            \"gram_order\": \"1\",\n",
    "            \"max_dictionary_size\": \"50000\",\n",
    "            \"occurrence_lower_bound\": \"3\",\n",
    "        }, {\n",
    "            \"dictionary_id\": \"BiGram\",\n",
    "            \"gram_order\": \"2\",\n",
    "            \"max_dictionary_size\": \"50000\",\n",
    "            \"occurrence_lower_bound\": \"3\",\n",
    "        }, {\n",
    "            \"dictionary_id\": \"TriGram\",\n",
    "            \"gram_order\": \"3\",\n",
    "            \"max_dictionary_size\": \"50000\",\n",
    "            \"occurrence_lower_bound\": \"3\",\n",
    "        }, {\n",
    "            \"dictionary_id\": \"Symbols_1\",\n",
    "            \"token_level_type\": \"Letter\",\n",
    "            \"gram_order\": \"1\",\n",
    "            \"max_dictionary_size\": \"500\",\n",
    "            \"occurrence_lower_bound\": \"1\",\n",
    "        }, {\n",
    "            \"dictionary_id\": \"Symbols_2\",\n",
    "            \"token_level_type\": \"Letter\",\n",
    "            \"gram_order\": \"2\",\n",
    "            \"max_dictionary_size\": \"2500\",\n",
    "            \"occurrence_lower_bound\": \"2\",\n",
    "        }, {\n",
    "            \"dictionary_id\": \"Symbols_3\",\n",
    "            \"token_level_type\": \"Letter\",\n",
    "            \"gram_order\": \"3\",\n",
    "            \"max_dictionary_size\": \"10000\",\n",
    "            \"occurrence_lower_bound\": \"10\",\n",
    "        }],\n",
    "    \"feature_processing\": {\n",
    "        \"default\": [{\n",
    "                \"dictionaries_names\": [\n",
    "                    \"Symbols_1\",\n",
    "                    \"Symbols_2\",\n",
    "                    \"Symbols_3\",\n",
    "                    'Word',\n",
    "                    \"BiGram\",\n",
    "                    \"TriGram\",\n",
    "                ],\n",
    "                \"feature_calcers\": [\"BoW\"],\n",
    "                \"tokenizers_names\": [\"Space\"]\n",
    "            }, {\n",
    "                \"dictionaries_names\": [\"Symbols_1\", 'Word'],\n",
    "                \"feature_calcers\": [\"NaiveBayes\"],\n",
    "                \"tokenizers_names\": [\"Space\"]\n",
    "        }],\n",
    "    }\n",
    "}"
   ]
  },
  {
   "cell_type": "code",
   "execution_count": 23,
   "metadata": {},
   "outputs": [],
   "source": [
    "cb_params = {\n",
    "    'text_features': ['text'],\n",
    "    'text_processing': TEXT_PROCESSING,\n",
    "    'iterations': 100,\n",
    "}"
   ]
  },
  {
   "cell_type": "code",
   "execution_count": 24,
   "metadata": {},
   "outputs": [],
   "source": [
    "cb_pipeline = get_cb_pipeline(cb_params)"
   ]
  },
  {
   "cell_type": "code",
   "execution_count": 25,
   "metadata": {},
   "outputs": [],
   "source": [
    "cv = StratifiedKFold(n_splits=5, shuffle=True, random_state=RANDOM_SEED)"
   ]
  },
  {
   "cell_type": "code",
   "execution_count": 26,
   "metadata": {},
   "outputs": [
    {
     "name": "stderr",
     "output_type": "stream",
     "text": [
      "[Parallel(n_jobs=5)]: Using backend LokyBackend with 5 concurrent workers.\n",
      "[Parallel(n_jobs=5)]: Done   2 out of   5 | elapsed:   30.0s remaining:   45.1s\n",
      "[Parallel(n_jobs=5)]: Done   5 out of   5 | elapsed:   30.1s finished\n"
     ]
    }
   ],
   "source": [
    "cv_scores = cross_val_score(\n",
    "    cb_pipeline,\n",
    "    df[['text']],\n",
    "    df['label'],\n",
    "    cv=cv,\n",
    "    n_jobs=5,\n",
    "    scoring='roc_auc',\n",
    "    verbose=1,\n",
    "#     fit_params={'verbose': False}\n",
    ")"
   ]
  },
  {
   "cell_type": "code",
   "execution_count": 27,
   "metadata": {},
   "outputs": [
    {
     "data": {
      "text/plain": [
       "array([0.87646471, 0.88053434, 0.88381659, 0.8826038 , 0.88625179])"
      ]
     },
     "execution_count": 27,
     "metadata": {},
     "output_type": "execute_result"
    }
   ],
   "source": [
    "cv_scores"
   ]
  },
  {
   "cell_type": "markdown",
   "metadata": {},
   "source": [
    "О, стало заметно лучше. Бейзлайна."
   ]
  },
  {
   "cell_type": "markdown",
   "metadata": {},
   "source": [
    "## А если без пропроцессинга?"
   ]
  },
  {
   "cell_type": "code",
   "execution_count": 61,
   "metadata": {},
   "outputs": [],
   "source": [
    "text_processing = deepcopy(TEXT_PROCESSING)"
   ]
  },
  {
   "cell_type": "code",
   "execution_count": 49,
   "metadata": {},
   "outputs": [],
   "source": [
    "text_processing[\"feature_processing\"] = {\n",
    "    \"default\": [{\n",
    "            \"dictionaries_names\": [\n",
    "                \"Symbols_1\",\n",
    "                \"Symbols_2\",\n",
    "                \"Symbols_3\",\n",
    "                'Word',\n",
    "                \"BiGram\",\n",
    "                \"TriGram\",\n",
    "            ],\n",
    "            \"feature_calcers\": [\"BoW\"],\n",
    "            \"tokenizers_names\": [\"Sense\"]\n",
    "        }, {\n",
    "            \"dictionaries_names\": [\"Symbols_1\", 'Word'],\n",
    "            \"feature_calcers\": [\"NaiveBayes\"],\n",
    "            \"tokenizers_names\": [\"Sense\"]\n",
    "    }],\n",
    "}"
   ]
  },
  {
   "cell_type": "code",
   "execution_count": 50,
   "metadata": {},
   "outputs": [],
   "source": [
    "cb_params = {\n",
    "    'text_features': ['text'],\n",
    "    'text_processing': text_processing,\n",
    "    'iterations': 100,\n",
    "}"
   ]
  },
  {
   "cell_type": "code",
   "execution_count": 51,
   "metadata": {},
   "outputs": [],
   "source": [
    "cb_pipeline = CatBoostClassifier(**cb_params)"
   ]
  },
  {
   "cell_type": "code",
   "execution_count": 52,
   "metadata": {},
   "outputs": [],
   "source": [
    "cv = StratifiedKFold(n_splits=5, shuffle=True, random_state=RANDOM_SEED)"
   ]
  },
  {
   "cell_type": "code",
   "execution_count": 53,
   "metadata": {},
   "outputs": [
    {
     "name": "stderr",
     "output_type": "stream",
     "text": [
      "[Parallel(n_jobs=5)]: Using backend LokyBackend with 5 concurrent workers.\n",
      "[Parallel(n_jobs=5)]: Done   2 out of   5 | elapsed:   28.5s remaining:   42.8s\n",
      "[Parallel(n_jobs=5)]: Done   5 out of   5 | elapsed:   28.8s finished\n"
     ]
    }
   ],
   "source": [
    "cv_scores = cross_val_score(\n",
    "    cb_pipeline,\n",
    "    df[['text']],\n",
    "    df['label'],\n",
    "    cv=cv,\n",
    "    n_jobs=5,\n",
    "    scoring='roc_auc',\n",
    "    verbose=1,\n",
    "#     fit_params={'verbose': False}\n",
    ")"
   ]
  },
  {
   "cell_type": "code",
   "execution_count": 54,
   "metadata": {},
   "outputs": [
    {
     "data": {
      "text/plain": [
       "array([0.8657, 0.8589, 0.8645, 0.86  , 0.8652])"
      ]
     },
     "execution_count": 54,
     "metadata": {},
     "output_type": "execute_result"
    }
   ],
   "source": [
    "cv_scores"
   ]
  },
  {
   "cell_type": "markdown",
   "metadata": {},
   "source": [
    "Ага, так получается хуже."
   ]
  },
  {
   "cell_type": "code",
   "execution_count": null,
   "metadata": {},
   "outputs": [],
   "source": []
  },
  {
   "cell_type": "markdown",
   "metadata": {},
   "source": [
    "## А если получше обработку сделать?"
   ]
  },
  {
   "cell_type": "code",
   "execution_count": 70,
   "metadata": {},
   "outputs": [],
   "source": [
    "text_processing = deepcopy(TEXT_PROCESSING)"
   ]
  },
  {
   "cell_type": "code",
   "execution_count": 83,
   "metadata": {},
   "outputs": [],
   "source": [
    "text_processing[\"feature_processing\"] = {\n",
    "    \"default\": [{\n",
    "            \"dictionaries_names\": [\n",
    "                \"Symbols_1\",\n",
    "                \"Symbols_2\",\n",
    "                \"Symbols_3\",\n",
    "                'Word',\n",
    "                \"BiGram\",\n",
    "                \"TriGram\",\n",
    "            ],\n",
    "            \"feature_calcers\": [\"BoW\"],\n",
    "            \"tokenizers_names\": [\"Space\"]\n",
    "        }, {\n",
    "            \"dictionaries_names\": [\"Symbols_1\", 'Word'],\n",
    "            \"feature_calcers\": [\"NaiveBayes\", 'BM25'],\n",
    "            \"tokenizers_names\": [\"Space\"]\n",
    "    }],\n",
    "}"
   ]
  },
  {
   "cell_type": "code",
   "execution_count": 84,
   "metadata": {},
   "outputs": [],
   "source": [
    "cb_params = {\n",
    "    'text_features': ['text'],\n",
    "    'text_processing': text_processing,\n",
    "    'iterations': 100,\n",
    "}"
   ]
  },
  {
   "cell_type": "code",
   "execution_count": 85,
   "metadata": {},
   "outputs": [],
   "source": [
    "cb_pipeline = get_cb_pipeline(cb_params)"
   ]
  },
  {
   "cell_type": "code",
   "execution_count": 86,
   "metadata": {},
   "outputs": [],
   "source": [
    "cv = StratifiedKFold(n_splits=5, shuffle=True, random_state=RANDOM_SEED)"
   ]
  },
  {
   "cell_type": "code",
   "execution_count": 87,
   "metadata": {},
   "outputs": [
    {
     "name": "stderr",
     "output_type": "stream",
     "text": [
      "[Parallel(n_jobs=5)]: Using backend LokyBackend with 5 concurrent workers.\n",
      "[Parallel(n_jobs=5)]: Done   2 out of   5 | elapsed:   30.9s remaining:   46.3s\n",
      "[Parallel(n_jobs=5)]: Done   5 out of   5 | elapsed:   31.0s finished\n"
     ]
    }
   ],
   "source": [
    "cv_scores = cross_val_score(\n",
    "    cb_pipeline,\n",
    "    df[['text']],\n",
    "    df['label'],\n",
    "    cv=cv,\n",
    "    n_jobs=5,\n",
    "    scoring='roc_auc',\n",
    "    verbose=1,\n",
    "#     fit_params={'verbose': False}\n",
    ")"
   ]
  },
  {
   "cell_type": "code",
   "execution_count": 88,
   "metadata": {},
   "outputs": [
    {
     "data": {
      "text/plain": [
       "array([0.878 , 0.8851, 0.8852, 0.8832, 0.8893])"
      ]
     },
     "execution_count": 88,
     "metadata": {},
     "output_type": "execute_result"
    }
   ],
   "source": [
    "cv_scores"
   ]
  },
  {
   "cell_type": "markdown",
   "metadata": {},
   "source": [
    "Лучше не стало, всё так же."
   ]
  },
  {
   "cell_type": "code",
   "execution_count": null,
   "metadata": {},
   "outputs": [],
   "source": []
  },
  {
   "cell_type": "markdown",
   "metadata": {},
   "source": [
    "## А если деревьев больше брать?"
   ]
  },
  {
   "cell_type": "code",
   "execution_count": 89,
   "metadata": {},
   "outputs": [],
   "source": [
    "cb_params = {\n",
    "    'text_features': ['text'],\n",
    "    'text_processing': TEXT_PROCESSING,\n",
    "    'iterations': 1000,\n",
    "}"
   ]
  },
  {
   "cell_type": "code",
   "execution_count": 90,
   "metadata": {},
   "outputs": [],
   "source": [
    "cb_pipeline = get_cb_pipeline(cb_params)\n",
    "cv = StratifiedKFold(n_splits=5, shuffle=True, random_state=RANDOM_SEED)"
   ]
  },
  {
   "cell_type": "code",
   "execution_count": 91,
   "metadata": {},
   "outputs": [
    {
     "name": "stderr",
     "output_type": "stream",
     "text": [
      "[Parallel(n_jobs=5)]: Using backend LokyBackend with 5 concurrent workers.\n",
      "[Parallel(n_jobs=5)]: Done   2 out of   5 | elapsed:  4.2min remaining:  6.4min\n",
      "[Parallel(n_jobs=5)]: Done   5 out of   5 | elapsed:  4.2min finished\n"
     ]
    }
   ],
   "source": [
    "cv_scores = cross_val_score(\n",
    "    cb_pipeline,\n",
    "    df[['text']],\n",
    "    df['label'],\n",
    "    cv=cv,\n",
    "    n_jobs=5,\n",
    "    scoring='roc_auc',\n",
    "    verbose=1,\n",
    "#     fit_params={'verbose': False}\n",
    ")"
   ]
  },
  {
   "cell_type": "code",
   "execution_count": 92,
   "metadata": {},
   "outputs": [
    {
     "data": {
      "text/plain": [
       "array([0.8769, 0.8851, 0.8871, 0.884 , 0.8896])"
      ]
     },
     "execution_count": 92,
     "metadata": {},
     "output_type": "execute_result"
    }
   ],
   "source": [
    "cv_scores"
   ]
  },
  {
   "cell_type": "markdown",
   "metadata": {},
   "source": [
    "Забавно, это не слишком помогает."
   ]
  },
  {
   "cell_type": "code",
   "execution_count": null,
   "metadata": {},
   "outputs": [],
   "source": []
  },
  {
   "cell_type": "markdown",
   "metadata": {},
   "source": [
    "## Проверка на отложенном датасете"
   ]
  },
  {
   "cell_type": "code",
   "execution_count": 55,
   "metadata": {},
   "outputs": [],
   "source": [
    "cb_params = {\n",
    "    'text_features': ['text'],\n",
    "    'text_processing': TEXT_PROCESSING,\n",
    "    'iterations': 100,\n",
    "}"
   ]
  },
  {
   "cell_type": "code",
   "execution_count": 56,
   "metadata": {},
   "outputs": [],
   "source": [
    "cb_pipeline = get_cb_pipeline(cb_params)"
   ]
  },
  {
   "cell_type": "code",
   "execution_count": 57,
   "metadata": {
    "collapsed": true
   },
   "outputs": [
    {
     "name": "stdout",
     "output_type": "stream",
     "text": [
      "Learning rate set to 0.238417\n",
      "0:\tlearn: 0.6254532\ttotal: 60.6ms\tremaining: 6s\n",
      "1:\tlearn: 0.5779319\ttotal: 121ms\tremaining: 5.95s\n",
      "2:\tlearn: 0.5498677\ttotal: 181ms\tremaining: 5.87s\n",
      "3:\tlearn: 0.5290903\ttotal: 237ms\tremaining: 5.68s\n",
      "4:\tlearn: 0.5153863\ttotal: 294ms\tremaining: 5.58s\n",
      "5:\tlearn: 0.5057627\ttotal: 352ms\tremaining: 5.51s\n",
      "6:\tlearn: 0.4990193\ttotal: 410ms\tremaining: 5.45s\n",
      "7:\tlearn: 0.4936615\ttotal: 468ms\tremaining: 5.38s\n",
      "8:\tlearn: 0.4875760\ttotal: 524ms\tremaining: 5.3s\n",
      "9:\tlearn: 0.4840218\ttotal: 583ms\tremaining: 5.24s\n",
      "10:\tlearn: 0.4810028\ttotal: 642ms\tremaining: 5.2s\n",
      "11:\tlearn: 0.4785382\ttotal: 697ms\tremaining: 5.11s\n",
      "12:\tlearn: 0.4765381\ttotal: 751ms\tremaining: 5.02s\n",
      "13:\tlearn: 0.4754219\ttotal: 804ms\tremaining: 4.94s\n",
      "14:\tlearn: 0.4744015\ttotal: 860ms\tremaining: 4.88s\n",
      "15:\tlearn: 0.4727948\ttotal: 920ms\tremaining: 4.83s\n",
      "16:\tlearn: 0.4704045\ttotal: 980ms\tremaining: 4.79s\n",
      "17:\tlearn: 0.4693729\ttotal: 1.03s\tremaining: 4.71s\n",
      "18:\tlearn: 0.4675882\ttotal: 1.09s\tremaining: 4.66s\n",
      "19:\tlearn: 0.4670485\ttotal: 1.14s\tremaining: 4.58s\n",
      "20:\tlearn: 0.4658670\ttotal: 1.2s\tremaining: 4.52s\n",
      "21:\tlearn: 0.4648213\ttotal: 1.25s\tremaining: 4.45s\n",
      "22:\tlearn: 0.4637952\ttotal: 1.31s\tremaining: 4.39s\n",
      "23:\tlearn: 0.4628351\ttotal: 1.37s\tremaining: 4.33s\n",
      "24:\tlearn: 0.4617855\ttotal: 1.42s\tremaining: 4.26s\n",
      "25:\tlearn: 0.4611248\ttotal: 1.48s\tremaining: 4.2s\n",
      "26:\tlearn: 0.4603412\ttotal: 1.53s\tremaining: 4.15s\n",
      "27:\tlearn: 0.4595057\ttotal: 1.59s\tremaining: 4.1s\n",
      "28:\tlearn: 0.4583747\ttotal: 1.65s\tremaining: 4.05s\n",
      "29:\tlearn: 0.4574583\ttotal: 1.71s\tremaining: 3.98s\n",
      "30:\tlearn: 0.4570282\ttotal: 1.77s\tremaining: 3.93s\n",
      "31:\tlearn: 0.4560318\ttotal: 1.82s\tremaining: 3.87s\n",
      "32:\tlearn: 0.4552068\ttotal: 1.87s\tremaining: 3.8s\n",
      "33:\tlearn: 0.4544074\ttotal: 1.93s\tremaining: 3.74s\n",
      "34:\tlearn: 0.4532911\ttotal: 1.98s\tremaining: 3.68s\n",
      "35:\tlearn: 0.4521434\ttotal: 2.04s\tremaining: 3.63s\n",
      "36:\tlearn: 0.4514070\ttotal: 2.1s\tremaining: 3.57s\n",
      "37:\tlearn: 0.4507428\ttotal: 2.15s\tremaining: 3.5s\n",
      "38:\tlearn: 0.4500543\ttotal: 2.21s\tremaining: 3.45s\n",
      "39:\tlearn: 0.4490981\ttotal: 2.27s\tremaining: 3.4s\n",
      "40:\tlearn: 0.4489599\ttotal: 2.32s\tremaining: 3.33s\n",
      "41:\tlearn: 0.4482972\ttotal: 2.37s\tremaining: 3.28s\n",
      "42:\tlearn: 0.4475156\ttotal: 2.43s\tremaining: 3.22s\n",
      "43:\tlearn: 0.4469277\ttotal: 2.49s\tremaining: 3.17s\n",
      "44:\tlearn: 0.4457306\ttotal: 2.54s\tremaining: 3.1s\n",
      "45:\tlearn: 0.4447174\ttotal: 2.59s\tremaining: 3.04s\n",
      "46:\tlearn: 0.4436112\ttotal: 2.65s\tremaining: 2.98s\n",
      "47:\tlearn: 0.4433896\ttotal: 2.71s\tremaining: 2.93s\n",
      "48:\tlearn: 0.4430009\ttotal: 2.76s\tremaining: 2.87s\n",
      "49:\tlearn: 0.4419187\ttotal: 2.81s\tremaining: 2.81s\n",
      "50:\tlearn: 0.4417386\ttotal: 2.87s\tremaining: 2.76s\n",
      "51:\tlearn: 0.4407451\ttotal: 2.92s\tremaining: 2.7s\n",
      "52:\tlearn: 0.4398572\ttotal: 2.98s\tremaining: 2.64s\n",
      "53:\tlearn: 0.4397148\ttotal: 3.03s\tremaining: 2.58s\n",
      "54:\tlearn: 0.4384592\ttotal: 3.09s\tremaining: 2.53s\n",
      "55:\tlearn: 0.4372119\ttotal: 3.16s\tremaining: 2.48s\n",
      "56:\tlearn: 0.4364532\ttotal: 3.21s\tremaining: 2.42s\n",
      "57:\tlearn: 0.4363199\ttotal: 3.27s\tremaining: 2.37s\n",
      "58:\tlearn: 0.4355641\ttotal: 3.32s\tremaining: 2.31s\n",
      "59:\tlearn: 0.4354538\ttotal: 3.38s\tremaining: 2.25s\n",
      "60:\tlearn: 0.4343148\ttotal: 3.44s\tremaining: 2.2s\n",
      "61:\tlearn: 0.4334340\ttotal: 3.49s\tremaining: 2.14s\n",
      "62:\tlearn: 0.4333346\ttotal: 3.55s\tremaining: 2.09s\n",
      "63:\tlearn: 0.4327000\ttotal: 3.61s\tremaining: 2.03s\n",
      "64:\tlearn: 0.4319260\ttotal: 3.67s\tremaining: 1.97s\n",
      "65:\tlearn: 0.4313722\ttotal: 3.72s\tremaining: 1.92s\n",
      "66:\tlearn: 0.4312608\ttotal: 3.78s\tremaining: 1.86s\n",
      "67:\tlearn: 0.4311601\ttotal: 3.83s\tremaining: 1.8s\n",
      "68:\tlearn: 0.4303482\ttotal: 3.88s\tremaining: 1.75s\n",
      "69:\tlearn: 0.4293280\ttotal: 3.94s\tremaining: 1.69s\n",
      "70:\tlearn: 0.4291706\ttotal: 4s\tremaining: 1.64s\n",
      "71:\tlearn: 0.4282883\ttotal: 4.06s\tremaining: 1.58s\n",
      "72:\tlearn: 0.4281771\ttotal: 4.11s\tremaining: 1.52s\n",
      "73:\tlearn: 0.4269434\ttotal: 4.17s\tremaining: 1.46s\n",
      "74:\tlearn: 0.4260879\ttotal: 4.23s\tremaining: 1.41s\n",
      "75:\tlearn: 0.4254163\ttotal: 4.29s\tremaining: 1.35s\n",
      "76:\tlearn: 0.4247769\ttotal: 4.34s\tremaining: 1.3s\n",
      "77:\tlearn: 0.4239635\ttotal: 4.4s\tremaining: 1.24s\n",
      "78:\tlearn: 0.4238593\ttotal: 4.46s\tremaining: 1.18s\n",
      "79:\tlearn: 0.4229194\ttotal: 4.51s\tremaining: 1.13s\n",
      "80:\tlearn: 0.4228252\ttotal: 4.57s\tremaining: 1.07s\n",
      "81:\tlearn: 0.4221026\ttotal: 4.62s\tremaining: 1.01s\n",
      "82:\tlearn: 0.4219933\ttotal: 4.68s\tremaining: 958ms\n",
      "83:\tlearn: 0.4212031\ttotal: 4.74s\tremaining: 902ms\n",
      "84:\tlearn: 0.4205813\ttotal: 4.79s\tremaining: 845ms\n",
      "85:\tlearn: 0.4205050\ttotal: 4.84s\tremaining: 788ms\n",
      "86:\tlearn: 0.4204248\ttotal: 4.9s\tremaining: 732ms\n",
      "87:\tlearn: 0.4203047\ttotal: 4.96s\tremaining: 676ms\n",
      "88:\tlearn: 0.4190485\ttotal: 5.03s\tremaining: 621ms\n",
      "89:\tlearn: 0.4188865\ttotal: 5.09s\tremaining: 565ms\n",
      "90:\tlearn: 0.4187960\ttotal: 5.15s\tremaining: 510ms\n",
      "91:\tlearn: 0.4184960\ttotal: 5.22s\tremaining: 454ms\n",
      "92:\tlearn: 0.4180838\ttotal: 5.27s\tremaining: 397ms\n",
      "93:\tlearn: 0.4173618\ttotal: 5.34s\tremaining: 341ms\n",
      "94:\tlearn: 0.4172662\ttotal: 5.41s\tremaining: 285ms\n",
      "95:\tlearn: 0.4163235\ttotal: 5.47s\tremaining: 228ms\n",
      "96:\tlearn: 0.4158614\ttotal: 5.55s\tremaining: 172ms\n",
      "97:\tlearn: 0.4154985\ttotal: 5.64s\tremaining: 115ms\n",
      "98:\tlearn: 0.4149013\ttotal: 5.72s\tremaining: 57.8ms\n",
      "99:\tlearn: 0.4148263\ttotal: 5.78s\tremaining: 0us\n"
     ]
    },
    {
     "data": {
      "text/plain": [
       "Pipeline(steps=[('preproc',\n",
       "                 <module.prepare_data.Preprocessor object at 0x7fcc70ebeda0>),\n",
       "                ('clf',\n",
       "                 <catboost.core.CatBoostClassifier object at 0x7fcc70ebee48>)])"
      ]
     },
     "execution_count": 57,
     "metadata": {},
     "output_type": "execute_result"
    }
   ],
   "source": [
    "cb_pipeline.fit(df[['text']], df['label'])"
   ]
  },
  {
   "cell_type": "code",
   "execution_count": 58,
   "metadata": {},
   "outputs": [],
   "source": [
    "test_label = test_df['label']\n",
    "test_prediction = cb_pipeline.predict_proba(test_df[['text']])[:, 1]"
   ]
  },
  {
   "cell_type": "code",
   "execution_count": 59,
   "metadata": {},
   "outputs": [
    {
     "data": {
      "text/plain": [
       "0.8859514424269288"
      ]
     },
     "execution_count": 59,
     "metadata": {},
     "output_type": "execute_result"
    }
   ],
   "source": [
    "roc_auc_score(test_label, test_prediction)"
   ]
  },
  {
   "cell_type": "code",
   "execution_count": 60,
   "metadata": {},
   "outputs": [
    {
     "data": {
      "image/png": "[encoded data removed]",
      "text/plain": [
       "<Figure size 576x576 with 1 Axes>"
      ]
     },
     "metadata": {
      "needs_background": "light"
     },
     "output_type": "display_data"
    }
   ],
   "source": [
    "fg, ax = plt.subplots(1, 1, figsize=(8,8))\n",
    "plot_roc_curve(cb_pipeline, test_df[['text']], test_label, ax=ax)\n",
    "plt.grid()"
   ]
  },
  {
   "cell_type": "code",
   "execution_count": null,
   "metadata": {},
   "outputs": [],
   "source": []
  }
 ],
 "metadata": {
  "kernelspec": {
   "display_name": "sber_help_task",
   "language": "python",
   "name": "sber_help_task"
  },
  "language_info": {
   "codemirror_mode": {
    "name": "ipython",
    "version": 3
   },
   "file_extension": ".py",
   "mimetype": "text/x-python",
   "name": "python",
   "nbconvert_exporter": "python",
   "pygments_lexer": "ipython3",
   "version": "3.6.9"
  }
 },
 "nbformat": 4,
 "nbformat_minor": 2
}
